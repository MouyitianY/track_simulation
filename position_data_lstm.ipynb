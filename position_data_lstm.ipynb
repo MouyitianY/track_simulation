{
 "cells": [
  {
   "cell_type": "code",
   "execution_count": 1,
   "metadata": {},
   "outputs": [],
   "source": [
    "from airplane import Airplane\n",
    "from receiver import Receiver\n",
    "\n",
    "airplane1 = Airplane('782034',[120.128234,30.2141348],[115.86143245,28.750012],180,1564503340)\n",
    "receiver1 = Receiver([114.122588,36.548925])\n",
    "time_track1 =receiver1.fin_time_track(airplane1)\n",
    "track1 = airplane1.gettrack()"
   ]
  },
  {
   "cell_type": "code",
   "execution_count": null,
   "metadata": {},
   "outputs": [],
   "source": [
    "print(track1)"
   ]
  },
  {
   "cell_type": "code",
   "execution_count": 2,
   "metadata": {},
   "outputs": [
    {
     "data": {
      "image/png": "[encoded data removed]",
      "text/plain": [
       "<Figure size 432x288 with 1 Axes>"
      ]
     },
     "metadata": {
      "needs_background": "light"
     },
     "output_type": "display_data"
    },
    {
     "data": {
      "image/png": "[encoded data removed]",
      "text/plain": [
       "<Figure size 432x288 with 1 Axes>"
      ]
     },
     "metadata": {
      "needs_background": "light"
     },
     "output_type": "display_data"
    }
   ],
   "source": [
    "import matplotlib.pyplot as plt\n",
    "from math import radians, cos, sin, asin, sqrt,pi, atan\n",
    "\n",
    "using_data = time_track1\n",
    "test_data = []#前后两两时间差\n",
    "\n",
    "for i in range(len(using_data)-1):\n",
    "    test_data.append(using_data[i+1]-using_data[i]-airplane1.geodistance(track1[i+1],receiver1.location)*10/3)\n",
    "\n",
    "\n",
    "plt.plot(using_data[:-1], test_data)\n",
    "plt.show()\n",
    "\n",
    "receiver1.plt_location(airplane1)"
   ]
  },
  {
   "cell_type": "code",
   "execution_count": 3,
   "metadata": {},
   "outputs": [
    {
     "name": "stdout",
     "output_type": "stream",
     "text": [
      "tensor([[120.1282,  30.2141],\n",
      "        [120.1274,  30.2138],\n",
      "        [120.1265,  30.2135],\n",
      "        ...,\n",
      "        [116.6703,  29.0276],\n",
      "        [116.6695,  29.0273],\n",
      "        [116.6686,  29.0270]])\n",
      "tensor([[120.1282,  30.2141],\n",
      "        [120.1274,  30.2138],\n",
      "        [120.1265,  30.2135],\n",
      "        ...,\n",
      "        [116.6920,  29.0350],\n",
      "        [116.6911,  29.0347],\n",
      "        [116.6902,  29.0344]])\n",
      "tensor([[116.6894,  29.0341],\n",
      "        [116.6885,  29.0338],\n",
      "        [116.6876,  29.0335],\n",
      "        [116.6868,  29.0332],\n",
      "        [116.6859,  29.0329],\n",
      "        [116.6850,  29.0326],\n",
      "        [116.6842,  29.0323],\n",
      "        [116.6833,  29.0320],\n",
      "        [116.6824,  29.0317],\n",
      "        [116.6816,  29.0314],\n",
      "        [116.6807,  29.0311],\n",
      "        [116.6798,  29.0308],\n",
      "        [116.6790,  29.0305],\n",
      "        [116.6781,  29.0303],\n",
      "        [116.6772,  29.0300],\n",
      "        [116.6764,  29.0297],\n",
      "        [116.6755,  29.0294],\n",
      "        [116.6747,  29.0291],\n",
      "        [116.6738,  29.0288],\n",
      "        [116.6729,  29.0285],\n",
      "        [116.6721,  29.0282],\n",
      "        [116.6712,  29.0279],\n",
      "        [116.6703,  29.0276],\n",
      "        [116.6695,  29.0273],\n",
      "        [116.6686,  29.0270]])\n"
     ]
    }
   ],
   "source": [
    "# len(using_data)\n",
    "import torch\n",
    "import torch.nn as nn\n",
    "import numpy as np\n",
    "import pandas as pd\n",
    "import matplotlib.pyplot as plt\n",
    "\n",
    "test_data = torch.tensor(track1[0:4000])\n",
    "print(test_data)\n",
    "test_size = 25\n",
    "train_set = test_data[: -test_size]\n",
    "test_set = test_data[-test_size:]\n",
    "\n",
    "print(train_set)\n",
    "print(test_set)"
   ]
  },
  {
   "cell_type": "code",
   "execution_count": 4,
   "metadata": {},
   "outputs": [],
   "source": [
    "from sklearn.preprocessing import MinMaxScaler\n",
    "sc = MinMaxScaler(feature_range=(-1,1))\n",
    "\n",
    "\n",
    "# train_set_array = np.array(train_set)\n",
    "# train_norm = sc.fit_transform(train_set_array.reshape(-1,1))\n",
    "train_norm = train_set.cuda()"
   ]
  },
  {
   "cell_type": "code",
   "execution_count": 5,
   "metadata": {},
   "outputs": [
    {
     "name": "stdout",
     "output_type": "stream",
     "text": [
      "3950\n",
      "(tensor([[120.1282,  30.2141],\n",
      "        [120.1274,  30.2138],\n",
      "        [120.1265,  30.2135],\n",
      "        [120.1256,  30.2132],\n",
      "        [120.1248,  30.2129],\n",
      "        [120.1239,  30.2127],\n",
      "        [120.1230,  30.2124],\n",
      "        [120.1222,  30.2121],\n",
      "        [120.1213,  30.2118],\n",
      "        [120.1204,  30.2115],\n",
      "        [120.1196,  30.2112],\n",
      "        [120.1187,  30.2109],\n",
      "        [120.1179,  30.2106],\n",
      "        [120.1170,  30.2103],\n",
      "        [120.1161,  30.2100],\n",
      "        [120.1153,  30.2097],\n",
      "        [120.1144,  30.2094],\n",
      "        [120.1135,  30.2091],\n",
      "        [120.1127,  30.2088],\n",
      "        [120.1118,  30.2085],\n",
      "        [120.1109,  30.2082],\n",
      "        [120.1101,  30.2079],\n",
      "        [120.1092,  30.2076],\n",
      "        [120.1083,  30.2073],\n",
      "        [120.1075,  30.2070]], device='cuda:0'), tensor([[120.1066,  30.2067]], device='cuda:0'))\n"
     ]
    }
   ],
   "source": [
    "def input_data(seq,ws):\n",
    "    out = []\n",
    "    L = len(seq)\n",
    "\n",
    "    for i in range(L-ws):\n",
    "        window = seq[i : i+ws]\n",
    "        label = seq[i+ws : i+ws+1]\n",
    "        out.append((window,label))\n",
    "\n",
    "    return out\n",
    "\n",
    "\n",
    "\n",
    "window_size = 25\n",
    "train_data = input_data(train_norm, window_size)\n",
    "# print(train_data)\n",
    "print(len(train_data))\n",
    "print(train_data[0])"
   ]
  },
  {
   "cell_type": "code",
   "execution_count": 10,
   "metadata": {},
   "outputs": [
    {
     "name": "stdout",
     "output_type": "stream",
     "text": [
      "LSTM(\n",
      "  (lstm): LSTM(2, 100)\n",
      "  (linear): Linear(in_features=100, out_features=2, bias=True)\n",
      ")\n",
      "800\n",
      "40000\n",
      "400\n",
      "400\n",
      "200\n",
      "2\n"
     ]
    }
   ],
   "source": [
    "class LSTM(nn.Module):\n",
    "    def __init__(self, input_size=2, hidden_size=100,out_size=2):\n",
    "        super().__init__()\n",
    "        self.hidden_size = hidden_size\n",
    "        self.lstm = nn.LSTM(input_size, hidden_size)\n",
    "        self.linear = nn.Linear(hidden_size,out_size)\n",
    "        self.hidden = ( torch.zeros(1, 1, hidden_size), torch.zeros(1, 1, hidden_size))\n",
    "\n",
    "    def forward(self,seq):\n",
    "        lstm_out, self.hidden = self.lstm(seq.view(len(seq), 1, -1), self.hidden)\n",
    "        pred= self.linear(lstm_out.view(len(seq), -1))\n",
    "\n",
    "        return pred[-1]\n",
    "\n",
    "\n",
    "torch.manual_seed(42)\n",
    "model = LSTM().cuda()\n",
    "# train_data.cuda()\n",
    "criterion = nn.MSELoss()\n",
    "optimizer = torch.optim.SGD(model.parameters(), lr = 0.005)\n",
    "\n",
    "\n",
    "print(model)\n",
    "\n",
    "\n",
    "for p in model.parameters():\n",
    "    print(p.numel())"
   ]
  },
  {
   "cell_type": "code",
   "execution_count": 11,
   "metadata": {},
   "outputs": [
    {
     "name": "stdout",
     "output_type": "stream",
     "text": [
      " Epoch 0 Loss:  1.2878830602858216e-05\n",
      " Epoch 1 Loss:  1.2839098417316563e-05\n",
      " Epoch 2 Loss:  1.2842247087974101e-05\n",
      " Epoch 3 Loss:  1.2915472325403243e-05\n"
     ]
    },
    {
     "ename": "KeyboardInterrupt",
     "evalue": "",
     "output_type": "error",
     "traceback": [
      "\u001b[0;31m---------------------------------------------------------------------------\u001b[0m",
      "\u001b[0;31mKeyboardInterrupt\u001b[0m                         Traceback (most recent call last)",
      "\u001b[0;32m<ipython-input-11-840f08987554>\u001b[0m in \u001b[0;36m<module>\u001b[0;34m\u001b[0m\n\u001b[1;32m      6\u001b[0m         \u001b[0moptimizer\u001b[0m\u001b[0;34m.\u001b[0m\u001b[0mzero_grad\u001b[0m\u001b[0;34m(\u001b[0m\u001b[0;34m)\u001b[0m\u001b[0;34m\u001b[0m\u001b[0;34m\u001b[0m\u001b[0m\n\u001b[1;32m      7\u001b[0m         \u001b[0mmodel\u001b[0m\u001b[0;34m.\u001b[0m\u001b[0mhidden\u001b[0m \u001b[0;34m=\u001b[0m \u001b[0;34m(\u001b[0m\u001b[0mtorch\u001b[0m\u001b[0;34m.\u001b[0m\u001b[0mzeros\u001b[0m\u001b[0;34m(\u001b[0m\u001b[0;36m1\u001b[0m\u001b[0;34m,\u001b[0m\u001b[0;36m1\u001b[0m\u001b[0;34m,\u001b[0m \u001b[0mmodel\u001b[0m\u001b[0;34m.\u001b[0m\u001b[0mhidden_size\u001b[0m\u001b[0;34m)\u001b[0m\u001b[0;34m.\u001b[0m\u001b[0mcuda\u001b[0m\u001b[0;34m(\u001b[0m\u001b[0;34m)\u001b[0m\u001b[0;34m,\u001b[0m \u001b[0mtorch\u001b[0m\u001b[0;34m.\u001b[0m\u001b[0mzeros\u001b[0m\u001b[0;34m(\u001b[0m\u001b[0;36m1\u001b[0m\u001b[0;34m,\u001b[0m\u001b[0;36m1\u001b[0m\u001b[0;34m,\u001b[0m \u001b[0mmodel\u001b[0m\u001b[0;34m.\u001b[0m\u001b[0mhidden_size\u001b[0m\u001b[0;34m)\u001b[0m\u001b[0;34m.\u001b[0m\u001b[0mcuda\u001b[0m\u001b[0;34m(\u001b[0m\u001b[0;34m)\u001b[0m\u001b[0;34m)\u001b[0m\u001b[0;34m\u001b[0m\u001b[0;34m\u001b[0m\u001b[0m\n\u001b[0;32m----> 8\u001b[0;31m         \u001b[0my_pred\u001b[0m \u001b[0;34m=\u001b[0m \u001b[0mmodel\u001b[0m\u001b[0;34m(\u001b[0m\u001b[0mseq\u001b[0m\u001b[0;34m)\u001b[0m\u001b[0;34m\u001b[0m\u001b[0;34m\u001b[0m\u001b[0m\n\u001b[0m\u001b[1;32m      9\u001b[0m \u001b[0;34m\u001b[0m\u001b[0m\n\u001b[1;32m     10\u001b[0m         \u001b[0mloss\u001b[0m \u001b[0;34m=\u001b[0m \u001b[0mcriterion\u001b[0m\u001b[0;34m(\u001b[0m\u001b[0my_pred\u001b[0m\u001b[0;34m,\u001b[0m \u001b[0my_train\u001b[0m\u001b[0;34m)\u001b[0m\u001b[0;34m\u001b[0m\u001b[0;34m\u001b[0m\u001b[0m\n",
      "\u001b[0;32m~/anaconda3/envs/pytorch/lib/python3.7/site-packages/torch/nn/modules/module.py\u001b[0m in \u001b[0;36m__call__\u001b[0;34m(self, *input, **kwargs)\u001b[0m\n\u001b[1;32m    539\u001b[0m             \u001b[0mresult\u001b[0m \u001b[0;34m=\u001b[0m \u001b[0mself\u001b[0m\u001b[0;34m.\u001b[0m\u001b[0m_slow_forward\u001b[0m\u001b[0;34m(\u001b[0m\u001b[0;34m*\u001b[0m\u001b[0minput\u001b[0m\u001b[0;34m,\u001b[0m \u001b[0;34m**\u001b[0m\u001b[0mkwargs\u001b[0m\u001b[0;34m)\u001b[0m\u001b[0;34m\u001b[0m\u001b[0;34m\u001b[0m\u001b[0m\n\u001b[1;32m    540\u001b[0m         \u001b[0;32melse\u001b[0m\u001b[0;34m:\u001b[0m\u001b[0;34m\u001b[0m\u001b[0;34m\u001b[0m\u001b[0m\n\u001b[0;32m--> 541\u001b[0;31m             \u001b[0mresult\u001b[0m \u001b[0;34m=\u001b[0m \u001b[0mself\u001b[0m\u001b[0;34m.\u001b[0m\u001b[0mforward\u001b[0m\u001b[0;34m(\u001b[0m\u001b[0;34m*\u001b[0m\u001b[0minput\u001b[0m\u001b[0;34m,\u001b[0m \u001b[0;34m**\u001b[0m\u001b[0mkwargs\u001b[0m\u001b[0;34m)\u001b[0m\u001b[0;34m\u001b[0m\u001b[0;34m\u001b[0m\u001b[0m\n\u001b[0m\u001b[1;32m    542\u001b[0m         \u001b[0;32mfor\u001b[0m \u001b[0mhook\u001b[0m \u001b[0;32min\u001b[0m \u001b[0mself\u001b[0m\u001b[0;34m.\u001b[0m\u001b[0m_forward_hooks\u001b[0m\u001b[0;34m.\u001b[0m\u001b[0mvalues\u001b[0m\u001b[0;34m(\u001b[0m\u001b[0;34m)\u001b[0m\u001b[0;34m:\u001b[0m\u001b[0;34m\u001b[0m\u001b[0;34m\u001b[0m\u001b[0m\n\u001b[1;32m    543\u001b[0m             \u001b[0mhook_result\u001b[0m \u001b[0;34m=\u001b[0m \u001b[0mhook\u001b[0m\u001b[0;34m(\u001b[0m\u001b[0mself\u001b[0m\u001b[0;34m,\u001b[0m \u001b[0minput\u001b[0m\u001b[0;34m,\u001b[0m \u001b[0mresult\u001b[0m\u001b[0;34m)\u001b[0m\u001b[0;34m\u001b[0m\u001b[0;34m\u001b[0m\u001b[0m\n",
      "\u001b[0;32m<ipython-input-10-548ecb130cb2>\u001b[0m in \u001b[0;36mforward\u001b[0;34m(self, seq)\u001b[0m\n\u001b[1;32m      9\u001b[0m     \u001b[0;32mdef\u001b[0m \u001b[0mforward\u001b[0m\u001b[0;34m(\u001b[0m\u001b[0mself\u001b[0m\u001b[0;34m,\u001b[0m\u001b[0mseq\u001b[0m\u001b[0;34m)\u001b[0m\u001b[0;34m:\u001b[0m\u001b[0;34m\u001b[0m\u001b[0;34m\u001b[0m\u001b[0m\n\u001b[1;32m     10\u001b[0m         \u001b[0mlstm_out\u001b[0m\u001b[0;34m,\u001b[0m \u001b[0mself\u001b[0m\u001b[0;34m.\u001b[0m\u001b[0mhidden\u001b[0m \u001b[0;34m=\u001b[0m \u001b[0mself\u001b[0m\u001b[0;34m.\u001b[0m\u001b[0mlstm\u001b[0m\u001b[0;34m(\u001b[0m\u001b[0mseq\u001b[0m\u001b[0;34m.\u001b[0m\u001b[0mview\u001b[0m\u001b[0;34m(\u001b[0m\u001b[0mlen\u001b[0m\u001b[0;34m(\u001b[0m\u001b[0mseq\u001b[0m\u001b[0;34m)\u001b[0m\u001b[0;34m,\u001b[0m \u001b[0;36m1\u001b[0m\u001b[0;34m,\u001b[0m \u001b[0;34m-\u001b[0m\u001b[0;36m1\u001b[0m\u001b[0;34m)\u001b[0m\u001b[0;34m,\u001b[0m \u001b[0mself\u001b[0m\u001b[0;34m.\u001b[0m\u001b[0mhidden\u001b[0m\u001b[0;34m)\u001b[0m\u001b[0;34m\u001b[0m\u001b[0;34m\u001b[0m\u001b[0m\n\u001b[0;32m---> 11\u001b[0;31m         \u001b[0mpred\u001b[0m\u001b[0;34m=\u001b[0m \u001b[0mself\u001b[0m\u001b[0;34m.\u001b[0m\u001b[0mlinear\u001b[0m\u001b[0;34m(\u001b[0m\u001b[0mlstm_out\u001b[0m\u001b[0;34m.\u001b[0m\u001b[0mview\u001b[0m\u001b[0;34m(\u001b[0m\u001b[0mlen\u001b[0m\u001b[0;34m(\u001b[0m\u001b[0mseq\u001b[0m\u001b[0;34m)\u001b[0m\u001b[0;34m,\u001b[0m \u001b[0;34m-\u001b[0m\u001b[0;36m1\u001b[0m\u001b[0;34m)\u001b[0m\u001b[0;34m)\u001b[0m\u001b[0;34m\u001b[0m\u001b[0;34m\u001b[0m\u001b[0m\n\u001b[0m\u001b[1;32m     12\u001b[0m \u001b[0;34m\u001b[0m\u001b[0m\n\u001b[1;32m     13\u001b[0m         \u001b[0;32mreturn\u001b[0m \u001b[0mpred\u001b[0m\u001b[0;34m[\u001b[0m\u001b[0;34m-\u001b[0m\u001b[0;36m1\u001b[0m\u001b[0;34m]\u001b[0m\u001b[0;34m\u001b[0m\u001b[0;34m\u001b[0m\u001b[0m\n",
      "\u001b[0;32m~/anaconda3/envs/pytorch/lib/python3.7/site-packages/torch/nn/modules/module.py\u001b[0m in \u001b[0;36m__call__\u001b[0;34m(self, *input, **kwargs)\u001b[0m\n\u001b[1;32m    536\u001b[0m                     \u001b[0mresult\u001b[0m \u001b[0;34m=\u001b[0m \u001b[0;34m(\u001b[0m\u001b[0mresult\u001b[0m\u001b[0;34m,\u001b[0m\u001b[0;34m)\u001b[0m\u001b[0;34m\u001b[0m\u001b[0;34m\u001b[0m\u001b[0m\n\u001b[1;32m    537\u001b[0m                 \u001b[0minput\u001b[0m \u001b[0;34m=\u001b[0m \u001b[0mresult\u001b[0m\u001b[0;34m\u001b[0m\u001b[0;34m\u001b[0m\u001b[0m\n\u001b[0;32m--> 538\u001b[0;31m         \u001b[0;32mif\u001b[0m \u001b[0mtorch\u001b[0m\u001b[0;34m.\u001b[0m\u001b[0m_C\u001b[0m\u001b[0;34m.\u001b[0m\u001b[0m_get_tracing_state\u001b[0m\u001b[0;34m(\u001b[0m\u001b[0;34m)\u001b[0m\u001b[0;34m:\u001b[0m\u001b[0;34m\u001b[0m\u001b[0;34m\u001b[0m\u001b[0m\n\u001b[0m\u001b[1;32m    539\u001b[0m             \u001b[0mresult\u001b[0m \u001b[0;34m=\u001b[0m \u001b[0mself\u001b[0m\u001b[0;34m.\u001b[0m\u001b[0m_slow_forward\u001b[0m\u001b[0;34m(\u001b[0m\u001b[0;34m*\u001b[0m\u001b[0minput\u001b[0m\u001b[0;34m,\u001b[0m \u001b[0;34m**\u001b[0m\u001b[0mkwargs\u001b[0m\u001b[0;34m)\u001b[0m\u001b[0;34m\u001b[0m\u001b[0;34m\u001b[0m\u001b[0m\n\u001b[1;32m    540\u001b[0m         \u001b[0;32melse\u001b[0m\u001b[0;34m:\u001b[0m\u001b[0;34m\u001b[0m\u001b[0;34m\u001b[0m\u001b[0m\n",
      "\u001b[0;31mKeyboardInterrupt\u001b[0m: "
     ]
    }
   ],
   "source": [
    "epochs = 50\n",
    "future =25\n",
    "\n",
    "for i in range(epochs):\n",
    "    for seq, y_train in train_data:\n",
    "        optimizer.zero_grad()\n",
    "        model.hidden = (torch.zeros(1,1, model.hidden_size).cuda(), torch.zeros(1,1, model.hidden_size).cuda())\n",
    "        y_pred = model(seq)\n",
    "\n",
    "        loss = criterion(y_pred, y_train)\n",
    "        loss.backward()\n",
    "        optimizer.step()\n",
    "    \n",
    "    preds = train_set [-window_size:].tolist()\n",
    "    \n",
    "    print( f\" Epoch {i} Loss:  {loss.item()}\")\n"
   ]
  },
  {
   "cell_type": "code",
   "execution_count": 12,
   "metadata": {},
   "outputs": [
    {
     "name": "stdout",
     "output_type": "stream",
     "text": [
      "[[116.71098327636719, 29.04153060913086], [116.71012115478516, 29.04123306274414], [116.70925903320312, 29.040937423706055], [116.70838928222656, 29.040639877319336], [116.70752716064453, 29.040342330932617], [116.70665740966797, 29.04004669189453], [116.70579528808594, 29.039749145507812], [116.7049331665039, 29.039451599121094], [116.70406341552734, 29.039155960083008], [116.70320129394531, 29.03885841369629], [116.70233154296875, 29.03856086730957], [116.70146942138672, 29.038265228271484], [116.70060729980469, 29.037967681884766], [116.69973754882812, 29.03767204284668], [116.6988754272461, 29.03737449645996], [116.69800567626953, 29.037076950073242], [116.6971435546875, 29.036781311035156], [116.69628143310547, 29.036483764648438], [116.6954116821289, 29.03618621826172], [116.69454956054688, 29.035890579223633], [116.69368743896484, 29.035593032836914], [116.69281768798828, 29.035295486450195], [116.69195556640625, 29.03499984741211], [116.69108581542969, 29.03470230102539], [116.69022369384766, 29.034404754638672]]\n"
     ]
    }
   ],
   "source": [
    "future = 25\n",
    "preds = train_norm[-window_size:].tolist()\n",
    "\n",
    "print(preds)\n",
    "model.eval()\n",
    "\n",
    "for i in range(future):\n",
    "    seq = torch.Tensor(preds[-window_size:]).cuda()\n",
    "    with torch.no_grad():\n",
    "        model.hidden = (torch.zeros(1,1,model.hidden_size).cuda(),torch.zeros(1,1,model.hidden_size).cuda())\n",
    "        preds.append(model(seq).tolist())\n",
    "\n",
    "# print(preds)"
   ]
  },
  {
   "cell_type": "code",
   "execution_count": 13,
   "metadata": {},
   "outputs": [
    {
     "name": "stdout",
     "output_type": "stream",
     "text": [
      "tensor([[116.7110,  29.0415],\n",
      "        [116.7101,  29.0412],\n",
      "        [116.7093,  29.0409],\n",
      "        [116.7084,  29.0406],\n",
      "        [116.7075,  29.0403],\n",
      "        [116.7067,  29.0400],\n",
      "        [116.7058,  29.0397],\n",
      "        [116.7049,  29.0395],\n",
      "        [116.7041,  29.0392],\n",
      "        [116.7032,  29.0389],\n",
      "        [116.7023,  29.0386],\n",
      "        [116.7015,  29.0383],\n",
      "        [116.7006,  29.0380],\n",
      "        [116.6997,  29.0377],\n",
      "        [116.6989,  29.0374],\n",
      "        [116.6980,  29.0371],\n",
      "        [116.6971,  29.0368],\n",
      "        [116.6963,  29.0365],\n",
      "        [116.6954,  29.0362],\n",
      "        [116.6945,  29.0359],\n",
      "        [116.6937,  29.0356],\n",
      "        [116.6928,  29.0353],\n",
      "        [116.6920,  29.0350],\n",
      "        [116.6911,  29.0347],\n",
      "        [116.6902,  29.0344],\n",
      "        [117.6293,  29.3566],\n",
      "        [117.6293,  29.3567],\n",
      "        [117.6293,  29.3567],\n",
      "        [117.6293,  29.3567],\n",
      "        [117.6293,  29.3567],\n",
      "        [117.6293,  29.3567],\n",
      "        [117.6293,  29.3567],\n",
      "        [117.6293,  29.3567],\n",
      "        [117.6293,  29.3567],\n",
      "        [117.6293,  29.3567],\n",
      "        [117.6293,  29.3567],\n",
      "        [117.6293,  29.3567],\n",
      "        [117.6293,  29.3567],\n",
      "        [117.6293,  29.3567],\n",
      "        [117.6293,  29.3567],\n",
      "        [117.6293,  29.3567],\n",
      "        [117.6293,  29.3567],\n",
      "        [117.6293,  29.3567],\n",
      "        [117.6293,  29.3567],\n",
      "        [117.6293,  29.3567],\n",
      "        [117.6293,  29.3567],\n",
      "        [117.6293,  29.3567],\n",
      "        [117.6293,  29.3567],\n",
      "        [117.6293,  29.3567],\n",
      "        [117.6293,  29.3567]])\n"
     ]
    }
   ],
   "source": [
    "print(torch.Tensor(preds))"
   ]
  },
  {
   "cell_type": "code",
   "execution_count": null,
   "metadata": {},
   "outputs": [],
   "source": []
  }
 ],
 "metadata": {
  "kernelspec": {
   "display_name": "Python [conda env:pytorch] *",
   "language": "python",
   "name": "conda-env-pytorch-py"
  },
  "language_info": {
   "codemirror_mode": {
    "name": "ipython",
    "version": 3
   },
   "file_extension": ".py",
   "mimetype": "text/x-python",
   "name": "python",
   "nbconvert_exporter": "python",
   "pygments_lexer": "ipython3",
   "version": "3.7.5"
  }
 },
 "nbformat": 4,
 "nbformat_minor": 2
}
