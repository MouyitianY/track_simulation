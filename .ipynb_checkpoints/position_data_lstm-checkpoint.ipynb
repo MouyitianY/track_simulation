{
 "cells": [
  {
   "cell_type": "code",
   "execution_count": null,
   "metadata": {},
   "outputs": [],
   "source": [
    "from airplane import Airplane\n",
    "from receiver import Receiver\n",
    "\n",
    "airplane1 = Airplane('782034',[120.128234,30.2141348],[115.86143245,28.750012],180,1564503340)\n",
    "receiver1 = Receiver([114.122588,36.548925])\n",
    "time_track1 =receiver1.fin_time_track(airplane1)\n",
    "track1 = airplane1.gettrack()"
   ]
  },
  {
   "cell_type": "code",
   "execution_count": 27,
   "metadata": {},
   "outputs": [
    {
     "data": {
      "image/png": "[encoded data removed]",
      "text/plain": [
       "<Figure size 432x288 with 1 Axes>"
      ]
     },
     "metadata": {
      "needs_background": "light"
     },
     "output_type": "display_data"
    },
    {
     "data": {
      "image/png": "[encoded data removed]",
      "text/plain": [
       "<Figure size 432x288 with 1 Axes>"
      ]
     },
     "metadata": {
      "needs_background": "light"
     },
     "output_type": "display_data"
    }
   ],
   "source": [
    "import matplotlib.pyplot as plt\n",
    "from math import radians, cos, sin, asin, sqrt,pi, atan\n",
    "\n",
    "using_data = time_track1\n",
    "test_data = []#前后两两时间差\n",
    "\n",
    "for i in range(len(using_data)-1):\n",
    "    test_data.append(using_data[i+1]-using_data[i]-airplane1.geodistance(track1[i+1],receiver1.location)*10/3)\n",
    "\n",
    "\n",
    "plt.plot(using_data[:-1], test_data)\n",
    "plt.show()\n",
    "\n",
    "receiver1.plt_location(airplane1)"
   ]
  },
  {
   "cell_type": "code",
   "execution_count": 28,
   "metadata": {},
   "outputs": [
    {
     "name": "stdout",
     "output_type": "stream",
     "text": [
      "tensor([[120.1282,  30.2141],\n",
      "        [120.1274,  30.2138],\n",
      "        [120.1265,  30.2135],\n",
      "        ...,\n",
      "        [119.2657,  29.9182],\n",
      "        [119.2648,  29.9179],\n",
      "        [119.2640,  29.9176]])\n",
      "tensor([[120.1282,  30.2141],\n",
      "        [120.1274,  30.2138],\n",
      "        [120.1265,  30.2135],\n",
      "        ...,\n",
      "        [119.2873,  29.9256],\n",
      "        [119.2865,  29.9253],\n",
      "        [119.2856,  29.9250]])\n",
      "tensor([[119.2847,  29.9247],\n",
      "        [119.2839,  29.9244],\n",
      "        [119.2830,  29.9241],\n",
      "        [119.2821,  29.9238],\n",
      "        [119.2813,  29.9235],\n",
      "        [119.2804,  29.9232],\n",
      "        [119.2795,  29.9229],\n",
      "        [119.2787,  29.9226],\n",
      "        [119.2778,  29.9223],\n",
      "        [119.2769,  29.9220],\n",
      "        [119.2761,  29.9217],\n",
      "        [119.2752,  29.9214],\n",
      "        [119.2744,  29.9211],\n",
      "        [119.2735,  29.9208],\n",
      "        [119.2726,  29.9205],\n",
      "        [119.2718,  29.9202],\n",
      "        [119.2709,  29.9199],\n",
      "        [119.2700,  29.9196],\n",
      "        [119.2692,  29.9194],\n",
      "        [119.2683,  29.9191],\n",
      "        [119.2674,  29.9188],\n",
      "        [119.2666,  29.9185],\n",
      "        [119.2657,  29.9182],\n",
      "        [119.2648,  29.9179],\n",
      "        [119.2640,  29.9176]])\n"
     ]
    }
   ],
   "source": [
    "# len(using_data)\n",
    "import torch\n",
    "import torch.nn as nn\n",
    "import numpy as np\n",
    "import pandas as pd\n",
    "import matplotlib.pyplot as plt\n",
    "\n",
    "test_data = torch.tensor(track1[0:1000])\n",
    "print(test_data)\n",
    "test_size = 25\n",
    "train_set = test_data[: -test_size]\n",
    "test_set = test_data[-test_size:]\n",
    "\n",
    "print(train_set)\n",
    "print(test_set)"
   ]
  },
  {
   "cell_type": "code",
   "execution_count": 29,
   "metadata": {},
   "outputs": [],
   "source": [
    "from sklearn.preprocessing import MinMaxScaler\n",
    "sc = MinMaxScaler(feature_range=(-1,1))\n",
    "\n",
    "\n",
    "# train_set_array = np.array(train_set)\n",
    "# train_norm = sc.fit_transform(train_set_array.reshape(-1,1))\n",
    "train_norm = train_set.cuda()"
   ]
  },
  {
   "cell_type": "code",
   "execution_count": 30,
   "metadata": {},
   "outputs": [
    {
     "name": "stdout",
     "output_type": "stream",
     "text": [
      "950\n",
      "(tensor([[120.1282,  30.2141],\n",
      "        [120.1274,  30.2138],\n",
      "        [120.1265,  30.2135],\n",
      "        [120.1256,  30.2132],\n",
      "        [120.1248,  30.2129],\n",
      "        [120.1239,  30.2127],\n",
      "        [120.1230,  30.2124],\n",
      "        [120.1222,  30.2121],\n",
      "        [120.1213,  30.2118],\n",
      "        [120.1204,  30.2115],\n",
      "        [120.1196,  30.2112],\n",
      "        [120.1187,  30.2109],\n",
      "        [120.1179,  30.2106],\n",
      "        [120.1170,  30.2103],\n",
      "        [120.1161,  30.2100],\n",
      "        [120.1153,  30.2097],\n",
      "        [120.1144,  30.2094],\n",
      "        [120.1135,  30.2091],\n",
      "        [120.1127,  30.2088],\n",
      "        [120.1118,  30.2085],\n",
      "        [120.1109,  30.2082],\n",
      "        [120.1101,  30.2079],\n",
      "        [120.1092,  30.2076],\n",
      "        [120.1083,  30.2073],\n",
      "        [120.1075,  30.2070]], device='cuda:0'), tensor([[120.1066,  30.2067]], device='cuda:0'))\n"
     ]
    }
   ],
   "source": [
    "def input_data(seq,ws):\n",
    "    out = []\n",
    "    L = len(seq)\n",
    "\n",
    "    for i in range(L-ws):\n",
    "        window = seq[i : i+ws]\n",
    "        label = seq[i+ws : i+ws+1]\n",
    "        out.append((window,label))\n",
    "\n",
    "    return out\n",
    "\n",
    "\n",
    "\n",
    "window_size = 25\n",
    "train_data = input_data(train_norm, window_size)\n",
    "# print(train_data)\n",
    "print(len(train_data))\n",
    "print(train_data[0])"
   ]
  },
  {
   "cell_type": "code",
   "execution_count": 31,
   "metadata": {},
   "outputs": [
    {
     "name": "stdout",
     "output_type": "stream",
     "text": [
      "LSTM(\n",
      "  (lstm): LSTM(2, 50)\n",
      "  (linear): Linear(in_features=50, out_features=2, bias=True)\n",
      ")\n",
      "400\n",
      "10000\n",
      "200\n",
      "200\n",
      "100\n",
      "2\n"
     ]
    }
   ],
   "source": [
    "class LSTM(nn.Module):\n",
    "    def __init__(self, input_size=2, hidden_size=50,out_size=2):\n",
    "        super().__init__()\n",
    "        self.hidden_size = hidden_size\n",
    "        self.lstm = nn.LSTM(input_size, hidden_size)\n",
    "        self.linear = nn.Linear(hidden_size,out_size)\n",
    "        self.hidden = ( torch.zeros(1, 1, hidden_size), torch.zeros(1, 1, hidden_size))\n",
    "\n",
    "    def forward(self,seq):\n",
    "        lstm_out, self.hidden = self.lstm(seq.view(len(seq), 1, -1), self.hidden)\n",
    "        pred= self.linear(lstm_out.view(len(seq), -1))\n",
    "\n",
    "        return pred[-1]\n",
    "\n",
    "\n",
    "torch.manual_seed(42)\n",
    "model = LSTM().cuda()\n",
    "# train_data.cuda()\n",
    "criterion = nn.MSELoss()\n",
    "optimizer = torch.optim.SGD(model.parameters(), lr = 0.01)\n",
    "\n",
    "\n",
    "print(model)\n",
    "\n",
    "\n",
    "for p in model.parameters():\n",
    "    print(p.numel())"
   ]
  },
  {
   "cell_type": "code",
   "execution_count": 33,
   "metadata": {},
   "outputs": [
    {
     "name": "stdout",
     "output_type": "stream",
     "text": [
      " Epoch 0 Loss:  1.0158912118640728e-05\n",
      " Epoch 1 Loss:  1.0131976523553021e-05\n",
      " Epoch 2 Loss:  1.0158912118640728e-05\n",
      " Epoch 3 Loss:  1.0158912118640728e-05\n",
      " Epoch 4 Loss:  1.0129188012797385e-05\n",
      " Epoch 5 Loss:  1.0129188012797385e-05\n",
      " Epoch 6 Loss:  1.0191479304921813e-05\n",
      " Epoch 7 Loss:  1.0129188012797385e-05\n",
      " Epoch 8 Loss:  1.0158912118640728e-05\n",
      " Epoch 9 Loss:  1.0126403140020557e-05\n",
      " Epoch 10 Loss:  1.0188698070123792e-05\n",
      " Epoch 11 Loss:  1.0194264177698642e-05\n",
      " Epoch 12 Loss:  1.0161696991417557e-05\n",
      " Epoch 13 Loss:  1.0191479304921813e-05\n",
      " Epoch 14 Loss:  1.0158912118640728e-05\n",
      " Epoch 15 Loss:  1.0158912118640728e-05\n",
      " Epoch 16 Loss:  1.0161696991417557e-05\n",
      " Epoch 17 Loss:  1.0161696991417557e-05\n",
      " Epoch 18 Loss:  1.0161696991417557e-05\n",
      " Epoch 19 Loss:  1.0218545867246576e-05\n",
      " Epoch 20 Loss:  1.0158912118640728e-05\n",
      " Epoch 21 Loss:  1.0191479304921813e-05\n",
      " Epoch 22 Loss:  1.0123621905222535e-05\n",
      " Epoch 23 Loss:  1.0126403140020557e-05\n",
      " Epoch 24 Loss:  1.0134768672287464e-05\n",
      " Epoch 25 Loss:  1.0161696991417557e-05\n",
      " Epoch 26 Loss:  1.0161696991417557e-05\n",
      " Epoch 27 Loss:  1.0194264177698642e-05\n",
      " Epoch 28 Loss:  1.0188698070123792e-05\n",
      " Epoch 29 Loss:  1.0224104698863812e-05\n",
      " Epoch 30 Loss:  1.0256788300466724e-05\n",
      " Epoch 31 Loss:  1.0091171134263277e-05\n",
      " Epoch 32 Loss:  1.022688957164064e-05\n",
      " Epoch 33 Loss:  1.0129188012797385e-05\n",
      " Epoch 34 Loss:  1.0191479304921813e-05\n",
      " Epoch 35 Loss:  1.0188698070123792e-05\n",
      " Epoch 36 Loss:  1.022688957164064e-05\n",
      " Epoch 37 Loss:  1.0158912118640728e-05\n",
      " Epoch 38 Loss:  1.0191479304921813e-05\n",
      " Epoch 39 Loss:  1.0191479304921813e-05\n",
      " Epoch 40 Loss:  1.0126403140020557e-05\n",
      " Epoch 41 Loss:  1.0123621905222535e-05\n",
      " Epoch 42 Loss:  1.0188698070123792e-05\n",
      " Epoch 43 Loss:  1.0194264177698642e-05\n",
      " Epoch 44 Loss:  1.0126403140020557e-05\n",
      " Epoch 45 Loss:  1.0158912118640728e-05\n",
      " Epoch 46 Loss:  1.0188698070123792e-05\n",
      " Epoch 47 Loss:  1.0161696991417557e-05\n",
      " Epoch 48 Loss:  1.0129188012797385e-05\n",
      " Epoch 49 Loss:  1.0156130883842707e-05\n"
     ]
    }
   ],
   "source": [
    "epochs = 50\n",
    "future =25\n",
    "\n",
    "for i in range(epochs):\n",
    "    for seq, y_train in train_data:\n",
    "        optimizer.zero_grad()\n",
    "        model.hidden = (torch.zeros(1,1, model.hidden_size).cuda(), torch.zeros(1,1, model.hidden_size).cuda())\n",
    "        y_pred = model(seq)\n",
    "\n",
    "        loss = criterion(y_pred, y_train)\n",
    "        loss.backward()\n",
    "        optimizer.step()\n",
    "    \n",
    "    preds = train_set [-window_size:].tolist()\n",
    "    \n",
    "    print( f\" Epoch {i} Loss:  {loss.item()}\")\n"
   ]
  },
  {
   "cell_type": "code",
   "execution_count": 46,
   "metadata": {},
   "outputs": [
    {
     "name": "stdout",
     "output_type": "stream",
     "text": [
      "[[119.30636596679688, 29.93211555480957], [119.30549621582031, 29.931819915771484], [119.30463409423828, 29.931522369384766], [119.30377197265625, 29.931224822998047], [119.30290222167969, 29.93092918395996], [119.30204010009766, 29.930631637573242], [119.3011703491211, 29.930334091186523], [119.30030822753906, 29.930038452148438], [119.29944610595703, 29.92974090576172], [119.29857635498047, 29.929443359375], [119.29771423339844, 29.929147720336914], [119.29684448242188, 29.928850173950195], [119.29598236083984, 29.92855453491211], [119.29512023925781, 29.92825698852539], [119.29425048828125, 29.927959442138672], [119.29338836669922, 29.927663803100586], [119.29251861572266, 29.927366256713867], [119.29165649414062, 29.92706871032715], [119.2907943725586, 29.926773071289062], [119.28992462158203, 29.926475524902344], [119.2890625, 29.926177978515625], [119.28820037841797, 29.92588233947754], [119.2873306274414, 29.92558479309082], [119.28646850585938, 29.9252872467041], [119.28559875488281, 29.924991607666016]]\n"
     ]
    }
   ],
   "source": [
    "future = 25\n",
    "preds = train_norm[-window_size:].tolist()\n",
    "\n",
    "print(preds)\n",
    "model.eval()\n",
    "\n",
    "for i in range(future):\n",
    "    seq = torch.Tensor(preds[-window_size:]).cuda()\n",
    "    with torch.no_grad():\n",
    "        model.hidden = (torch.zeros(1,1,model.hidden_size).cuda(),torch.zeros(1,1,model.hidden_size).cuda())\n",
    "        preds.append(model(seq).tolist())\n",
    "\n",
    "# print(preds)"
   ]
  },
  {
   "cell_type": "code",
   "execution_count": 48,
   "metadata": {},
   "outputs": [
    {
     "name": "stdout",
     "output_type": "stream",
     "text": [
      "tensor([[119.3064,  29.9321],\n",
      "        [119.3055,  29.9318],\n",
      "        [119.3046,  29.9315],\n",
      "        [119.3038,  29.9312],\n",
      "        [119.3029,  29.9309],\n",
      "        [119.3020,  29.9306],\n",
      "        [119.3012,  29.9303],\n",
      "        [119.3003,  29.9300],\n",
      "        [119.2994,  29.9297],\n",
      "        [119.2986,  29.9294],\n",
      "        [119.2977,  29.9291],\n",
      "        [119.2968,  29.9289],\n",
      "        [119.2960,  29.9286],\n",
      "        [119.2951,  29.9283],\n",
      "        [119.2943,  29.9280],\n",
      "        [119.2934,  29.9277],\n",
      "        [119.2925,  29.9274],\n",
      "        [119.2917,  29.9271],\n",
      "        [119.2908,  29.9268],\n",
      "        [119.2899,  29.9265],\n",
      "        [119.2891,  29.9262],\n",
      "        [119.2882,  29.9259],\n",
      "        [119.2873,  29.9256],\n",
      "        [119.2865,  29.9253],\n",
      "        [119.2856,  29.9250],\n",
      "        [119.2890,  29.9262],\n",
      "        [119.2890,  29.9262],\n",
      "        [119.2890,  29.9262],\n",
      "        [119.2890,  29.9262],\n",
      "        [119.2890,  29.9262],\n",
      "        [119.2890,  29.9262],\n",
      "        [119.2890,  29.9262],\n",
      "        [119.2890,  29.9262],\n",
      "        [119.2890,  29.9262],\n",
      "        [119.2890,  29.9262],\n",
      "        [119.2890,  29.9262],\n",
      "        [119.2890,  29.9262],\n",
      "        [119.2890,  29.9262],\n",
      "        [119.2890,  29.9262],\n",
      "        [119.2890,  29.9262],\n",
      "        [119.2890,  29.9262],\n",
      "        [119.2890,  29.9262],\n",
      "        [119.2890,  29.9262],\n",
      "        [119.2890,  29.9262],\n",
      "        [119.2890,  29.9262],\n",
      "        [119.2890,  29.9262],\n",
      "        [119.2890,  29.9262],\n",
      "        [119.2890,  29.9262],\n",
      "        [119.2890,  29.9262],\n",
      "        [119.2890,  29.9262]])\n"
     ]
    }
   ],
   "source": [
    "print(torch.Tensor(preds))"
   ]
  },
  {
   "cell_type": "code",
   "execution_count": null,
   "metadata": {},
   "outputs": [],
   "source": []
  }
 ],
 "metadata": {
  "kernelspec": {
   "display_name": "Python [conda env:pytorch] *",
   "language": "python",
   "name": "conda-env-pytorch-py"
  },
  "language_info": {
   "codemirror_mode": {
    "name": "ipython",
    "version": 3
   },
   "file_extension": ".py",
   "mimetype": "text/x-python",
   "name": "python",
   "nbconvert_exporter": "python",
   "pygments_lexer": "ipython3",
   "version": "3.7.5"
  }
 },
 "nbformat": 4,
 "nbformat_minor": 2
}
