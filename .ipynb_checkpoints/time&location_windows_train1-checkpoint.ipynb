{
 "cells": [
  {
   "cell_type": "markdown",
   "metadata": {},
   "source": [
    "# 使用seq2seq模型对序列数据滑动窗口进行训练"
   ]
  },
  {
   "cell_type": "code",
   "execution_count": 18,
   "metadata": {},
   "outputs": [
    {
     "name": "stdout",
     "output_type": "stream",
     "text": [
      "3577\n"
     ]
    }
   ],
   "source": [
    "# 模拟数据获取\n",
    "from airplane import Airplane\n",
    "from receiver import Receiver\n",
    "\n",
    "airplane1 = Airplane('782034',[118.128234,33.2141348,10000],[120.86143245,34.750012,10000],180,0)\n",
    "receiver1 = Receiver([108.7187911987,34.0290298462,435],dirfting=-500,NoiseRange=(0,0))\n",
    "receiver2 = Receiver([108.7135726929,34.0363121033,427],dirfting=500,NoiseRange=(0,0))\n",
    "# receiver3 = Receiver([118.56588,34.448925,500])\n",
    "time_track1 =receiver1.fin_time_track(airplane1)\n",
    "time_track2 =receiver2.fin_time_track(airplane1)\n",
    "# time_track3 =receiver3.fin_time_track(airplane1)\n",
    "track = airplane1.track\n",
    "print(len(track))"
   ]
  },
  {
   "cell_type": "code",
   "execution_count": 20,
   "metadata": {
    "scrolled": true
   },
   "outputs": [
    {
     "data": {
      "image/png": "[encoded data removed]",
      "text/plain": [
       "<Figure size 432x288 with 1 Axes>"
      ]
     },
     "metadata": {
      "needs_background": "light"
     },
     "output_type": "display_data"
    },
    {
     "data": {
      "image/png": "[encoded data removed]",
      "text/plain": [
       "<Figure size 432x288 with 1 Axes>"
      ]
     },
     "metadata": {
      "needs_background": "light"
     },
     "output_type": "display_data"
    }
   ],
   "source": [
    "# 预处理step1\n",
    "# 获取TDOA DDOA\n",
    "import matplotlib.pyplot as plt\n",
    "from math import radians, cos, sin, asin, sqrt,pi, atan\n",
    "\n",
    "TDOA_12 = [] #到达时间差\n",
    "DDOA_12 = [] #距离差\n",
    "time_line = time_track1\n",
    "\n",
    "\n",
    "for i in range(len(track)):\n",
    "    TDOA_12.append(time_track1[i] - time_track2[i])\n",
    "    DDOA_12.append(airplane1.geodistance(track[i],receiver1.location)-airplane1.geodistance(track[i],receiver2.location))\n",
    "    \n",
    "\n",
    "# plt.plot(using_data[19:79], test_data[19:79])\n",
    "plt.plot(time_line, TDOA_12)\n",
    "plt.show()\n",
    "# plt.ylim(0.39,0.6)\n",
    "# plt.xlim(0.39,0.6)\n",
    "plt.plot(time_line, DDOA_12)\n",
    "plt.show()\n"
   ]
  },
  {
   "cell_type": "code",
   "execution_count": 12,
   "metadata": {},
   "outputs": [],
   "source": [
    "import torch\n",
    "import torch.nn as nn\n",
    "import torch.nn.functional as F\n",
    "import numpy as np\n",
    "import pandas as pd"
   ]
  },
  {
   "cell_type": "code",
   "execution_count": 25,
   "metadata": {},
   "outputs": [
    {
     "name": "stdout",
     "output_type": "stream",
     "text": [
      "tensor([1.0000, 0.9994, 0.9988, 0.9983, 0.9977, 0.9973, 0.9968, 0.9962, 0.9957,\n",
      "        0.9951], device='cuda:0')\n",
      "[[-1.0, -1.0, -1.0], [-0.9995907205982206, -0.9988326158113452, -0.9979705731686508], [-0.999181441196427, -0.9976656300306104, -0.9959421940304765], [-0.9987721617946477, -0.9964990426578879, -0.9939148625854912], [-0.9983628823928541, -0.9953328536930997, -0.9918885788336951], [-0.9979536029910747, -0.9941670631363095, -0.9898633427750738], [-0.9975443235892953, -0.9930016709874963, -0.9878391544096488], [-0.9971350441875018, -0.9918366772466172, -0.9858160137373986], [-0.9967257647857224, -0.9906720819137362, -0.9837939207583446], [-0.9963164853839288, -0.9895078849887966, -0.9817728754724655]]\n"
     ]
    }
   ],
   "source": [
    "# 预处理step3\n",
    "# 训练集数据归一化，并化为cuda类型\n",
    "from sklearn.preprocessing import MinMaxScaler\n",
    "sc = MinMaxScaler(feature_range=(-1,1))\n",
    "\n",
    "TDOA_array = np.array(TDOA_12)\n",
    "TDOA_norm = sc.fit_transform(TDOA_array.reshape(-1,1))\n",
    "TDOA_norm = torch.FloatTensor(TDOA_norm).view(-1).cuda()\n",
    "print(TDOA_norm[0:10])\n",
    "\n",
    "lng = []\n",
    "lat = []\n",
    "alt = []\n",
    "\n",
    "for position in track:\n",
    "    lng.append(position[0])\n",
    "    lat.append(position[1])\n",
    "    alt.append(position[2])\n",
    "\n",
    "lng_array = np.array(lng)\n",
    "lng_norm = sc.fit_transform(lng_array.reshape(-1,1))\n",
    "\n",
    "\n",
    "lat_array = np.array(lat)\n",
    "lat_norm = sc.fit_transform(lat_array.reshape(-1,1))\n",
    "\n",
    "alt_array = np.array(alt)\n",
    "alt_norm = sc.fit_transform(alt_array.reshape(-1,1))\n",
    "\n",
    "track_norm = [] #归一化轨迹列表\n",
    "for i in range(len(lng_norm)):\n",
    "    track_norm.append([lng_norm[i][0],lat_norm[i][0], alt_norm[i][0]])\n",
    "    \n",
    "print(track_norm[:10])"
   ]
  },
  {
   "cell_type": "code",
   "execution_count": 72,
   "metadata": {},
   "outputs": [
    {
     "name": "stdout",
     "output_type": "stream",
     "text": [
      "[-1.7576131109125342e-06, -2.332620523626261e-06, -2.806652074749394e-06, -3.2657897517385237e-06, -3.7725890722484223e-06, -4.218662268851148e-06, -4.633376038398751e-06, -5.192668886433438e-06, -5.632315113857089e-06, -6.116829137425839e-06]\n",
      "[[118.128234, 33.2141348, 10000.0], [118.12879332091329, 33.215062159563615, 10000.630852791792], [118.12935264182659, 33.21598920263554, 10001.261379905338], [118.12991196273987, 33.2169159292157, 10001.891581340638], [118.13047128365316, 33.21784233930416, 10002.521457097691], [118.13103060456645, 33.21876843290087, 10003.1510071765], [118.13158992547973, 33.21969421000585, 10003.78023157706], [118.13214924639303, 33.22061967061912, 10004.409130299378], [118.13270856730631, 33.22154481474064, 10005.037703343447], [118.1332678882196, 33.222469642370456, 10005.665950709272]]\n"
     ]
    }
   ],
   "source": [
    "# 预处理step2\n",
    "# 划分训练集和测试集\n",
    "\n",
    "x_data = TDOA_12[:3000]\n",
    "y_data = track[:3000]\n",
    "print(x_data[0:10])\n",
    "print(y_data[0:10])\n",
    "\n",
    "test_size = 1000\n",
    "\n",
    "x_train_set = x_data[: -test_size]\n",
    "x_test_set = x_data[-test_size:]\n",
    "\n",
    "y_train_set = y_data[: -test_size]\n",
    "y_test_set = y_data[-test_size:]"
   ]
  },
  {
   "cell_type": "code",
   "execution_count": 6,
   "metadata": {},
   "outputs": [
    {
     "name": "stdout",
     "output_type": "stream",
     "text": [
      "[(tensor([0.3341], device='cuda:0'), tensor([0.2961], device='cuda:0')), (tensor([0.2660], device='cuda:0'), tensor([0.2867], device='cuda:0')), (tensor([-0.0952], device='cuda:0'), tensor([0.2773], device='cuda:0')), (tensor([0.2885], device='cuda:0'), tensor([0.2679], device='cuda:0')), (tensor([-0.0662], device='cuda:0'), tensor([0.2586], device='cuda:0')), (tensor([0.0985], device='cuda:0'), tensor([0.2493], device='cuda:0')), (tensor([0.2657], device='cuda:0'), tensor([0.2400], device='cuda:0')), (tensor([0.1740], device='cuda:0'), tensor([0.2308], device='cuda:0')), (tensor([0.2940], device='cuda:0'), tensor([0.2216], device='cuda:0')), (tensor([0.5287], device='cuda:0'), tensor([0.2124], device='cuda:0'))]\n"
     ]
    }
   ],
   "source": [
    "# 预处理step4\n",
    "# 将数据处理为lstm接受的类型\n",
    "lenth = len(x_train_norm)\n",
    "train_data = []\n",
    "for i in range(lenth):\n",
    "    train_data.append((x_train_norm[i:i+1],y_train_norm[i:i+1]))\n",
    "\n",
    "print(train_data[0:10])"
   ]
  },
  {
   "cell_type": "code",
   "execution_count": 7,
   "metadata": {},
   "outputs": [
    {
     "name": "stdout",
     "output_type": "stream",
     "text": [
      "tensor([0.2961], device='cuda:0')\n"
     ]
    }
   ],
   "source": [
    "print(train_data[0][1])"
   ]
  },
  {
   "cell_type": "markdown",
   "metadata": {},
   "source": [
    "# seq2seq模型\n",
    "首先将输入的序列数据压缩为指定长度的向量（encoder）\n",
    "\n",
    "然后将指定长度的向量解码成不定长度的序列数据（decoder）\n",
    "\n",
    "然后将序列数据一一对应（seq2seq）"
   ]
  },
  {
   "cell_type": "code",
   "execution_count": 78,
   "metadata": {},
   "outputs": [],
   "source": [
    "class Encoder(nn.Module):\n",
    "    \n",
    "    def __init__(self, input_size, hidden_size, n_layers):\n",
    "        super(Encoder, self).__init__()\n",
    "        self.n_layers = n_layers\n",
    "        self.hidden_size = hidden_size\n",
    "        self.lstm = nn.LSTM(input_size, hidden_size,num_layers=n_layers)\n",
    "        \n",
    "    def forward(self, seq):\n",
    "        \"\"\"\n",
    "        :params\n",
    "            seq: Tensor[seq_len, batch_size]\n",
    "            sequence_lengths: Tensor[batch_size,]\n",
    "        :return\n",
    "            outputs: Tensor[seq_len, batch_size, hidden_size]\n",
    "            hn: Tensor[num_layers, batch_size, hidden_size]\n",
    "            cn: Tensor[num_layers, batch_size, hidden_size]\n",
    "        \"\"\"\n",
    "        outputs, (hn, cn) = self.lstm(seq)\n",
    "        return outputs, hn, cn"
   ]
  },
  {
   "cell_type": "code",
   "execution_count": 79,
   "metadata": {},
   "outputs": [],
   "source": [
    "class Decoder(nn.Module):\n",
    "\n",
    "    def __init__(self, input_size, out_size, hidden_size, n_layers):\n",
    "        super(Decoder, self).__init__()\n",
    "        self.n_layers = n_layers\n",
    "        self.hidden_size = hidden_size\n",
    "        self.lstm = nn.LSTM(input_size, hidden_size, num_layers=n_layers)\n",
    "        self.fc = nn.Linear(hidden_size, out_size)\n",
    "        \n",
    "    def forward(self, input_index, h_state, c_state):\n",
    "#         embedded = self.embedding(input_word_index.unsqueeze(0))\n",
    "#         embedded = self.dropout(embedded)\n",
    "        outputs, (h_state, c_state) = self.lstm(input_index, (h_state, c_state))\n",
    "        # outputs: [1, batch_size, hidden_size]\n",
    "        logit = self.fc(outputs.squeeze(0))\n",
    "        return logit, h_state, c_state"
   ]
  },
  {
   "cell_type": "code",
   "execution_count": 80,
   "metadata": {},
   "outputs": [],
   "source": [
    "class SeqToSeqNet(nn.Module):\n",
    "\n",
    "    def __init__(self, encoder, decoder):\n",
    "        assert encoder.n_layers == decoder.n_layers, 'Encoder and Decoder must have the same number of reccurent layers'\n",
    "        assert encoder.hidden_size == decoder.hidden_size, 'Encoder and Decoder must have the same number of reccurrent hidden units'\n",
    "\n",
    "        super(SeqToSeqNet, self).__init__()\n",
    "        self.encoder = encoder\n",
    "        self.decoder = decoder\n",
    "        \n",
    "    def forward(self, input_seq, seq_lengths, target_seq, tf_ratio):\n",
    "        \"\"\"\n",
    "        :params\n",
    "            input_sequences: Tensor[seq_len, batch_size]\n",
    "            sequence_lengths: Tensor[batch_size,]\n",
    "            target_sequences: Tensor[seq_len, batch_size]\n",
    "            tf_ratio: float\n",
    "            \n",
    "        :return\n",
    "            outputs: Tensor[seq_len - 1, batch_size, vocab_size]\n",
    "                Since we ignore the SOS_TOKEN\n",
    "        \"\"\"\n",
    "        _, h_state, c_state = self.encoder(input_seq, seq_lengths)\n",
    "        \n",
    "        seq_len, batch_size = target_seq.size()\n",
    "        outputs = torch.zeros(seq_len - 1, batch_size, self.decoder.vocab_size)\n",
    "        word_index = target_sequences[0, :]\n",
    "        \n",
    "        for t, idx in enumerate(range(1, seq_len)):\n",
    "            output, h_state, c_state = self.decoder(word_index, h_state, c_state)\n",
    "            # output: [batch_size, vocab_size]\n",
    "            outputs[t] = output   \n",
    "            word_index = target_sequences[idx, :]\n",
    "               \n",
    "        return outputs"
   ]
  },
  {
   "cell_type": "code",
   "execution_count": 81,
   "metadata": {},
   "outputs": [],
   "source": [
    "INPUT_SIZE = 1\n",
    "OUTPUT_SIZE = 3\n",
    "HIDDEN_SIZE = 128\n",
    "N_LAYERS = 1\n",
    "\n",
    "\n",
    "\n",
    "encoder = Encoder(INPUT_SIZE, HIDDEN_SIZE, N_LAYERS)\n",
    "decoder = Decoder(INPUT_SIZE,OUTPUT_SIZE, HIDDEN_SIZE, N_LAYERS)\n",
    "\n",
    "seq2seq = SeqToSeqNet(encoder, decoder)"
   ]
  },
  {
   "cell_type": "code",
   "execution_count": 65,
   "metadata": {},
   "outputs": [],
   "source": [
    "\n",
    "training_data = [\n",
    "    (\"The dog ate the apple\".split(), [\"DET\", \"NN\", \"V\", \"DET\", \"NN\"]),\n",
    "    (\"Everybody read that book\".split(), [\"NN\", \"V\", \"DET\", \"NN\"])\n",
    "]"
   ]
  },
  {
   "cell_type": "code",
   "execution_count": 66,
   "metadata": {},
   "outputs": [
    {
     "name": "stdout",
     "output_type": "stream",
     "text": [
      "{'The': 0, 'dog': 1, 'ate': 2, 'the': 3, 'apple': 4, 'Everybody': 5, 'read': 6, 'that': 7, 'book': 8}\n"
     ]
    }
   ],
   "source": [
    "word_to_ix = {} # 单词的索引字典\n",
    "for sent, tags in training_data:\n",
    "    for word in sent:\n",
    "        if word not in word_to_ix:\n",
    "            word_to_ix[word] = len(word_to_ix)\n",
    "print(word_to_ix)\n",
    "tag_to_ix = {\"DET\": 0, \"NN\": 1, \"V\": 2} # 手工设定词性标签数据字典"
   ]
  },
  {
   "cell_type": "code",
   "execution_count": 67,
   "metadata": {},
   "outputs": [],
   "source": [
    "class LSTMTagger(nn.Module):\n",
    " \n",
    "    def __init__(self, embedding_dim, hidden_dim, vocab_size, tagset_size):\n",
    "        super(LSTMTagger, self).__init__()\n",
    "        self.hidden_dim = hidden_dim\n",
    "        self.word_embeddings = nn.Embedding(vocab_size, embedding_dim)\n",
    "        self.lstm = nn.LSTM(embedding_dim, hidden_dim)\n",
    "        self.hidden2tag = nn.Linear(hidden_dim, tagset_size)\n",
    "        self.hidden = self.init_hidden()\n",
    " \n",
    "    def init_hidden(self):\n",
    "        return (autograd.Variable(torch.zeros(1, 1, self.hidden_dim)),\n",
    "                autograd.Variable(torch.zeros(1, 1, self.hidden_dim)))\n",
    " \n",
    "    def forward(self, sentence):\n",
    "        embeds = self.word_embeddings(sentence)\n",
    "        lstm_out, self.hidden = self.lstm(embeds.view(len(sentence), 1, -1), self.hidden)\n",
    "        tag_space = self.hidden2tag(lstm_out.view(len(sentence), -1))\n",
    "        tag_scores = tag_space\n",
    "        return tag_scores"
   ]
  },
  {
   "cell_type": "code",
   "execution_count": 68,
   "metadata": {},
   "outputs": [],
   "source": [
    "def prepare_sequence(seq, to_ix):\n",
    "    idxs = [to_ix[w] for w in seq]\n",
    "    tensor = torch.LongTensor(idxs)\n",
    "    return autograd.Variable(tensor)"
   ]
  },
  {
   "cell_type": "code",
   "execution_count": 69,
   "metadata": {},
   "outputs": [],
   "source": [
    "EMBEDDING_DIM = 128\n",
    "HIDDEN_DIM=256\n",
    "\n",
    "model = LSTMTagger(EMBEDDING_DIM, HIDDEN_DIM, len(word_to_ix), len(tag_to_ix))\n",
    "loss_function = nn.NLLLoss()\n",
    "optimizer = torch.optim.SGD(model.parameters(), lr=0.1)"
   ]
  },
  {
   "cell_type": "code",
   "execution_count": 70,
   "metadata": {},
   "outputs": [
    {
     "name": "stdout",
     "output_type": "stream",
     "text": [
      "['The', 'dog', 'ate', 'the', 'apple']\n",
      "tensor([0, 1, 2, 3, 4])\n",
      "tensor([[-0.0177, -0.0405,  0.0103],\n",
      "        [ 0.1044, -0.0235,  0.0118],\n",
      "        [ 0.0161, -0.0832, -0.0126],\n",
      "        [-0.0137, -0.0960,  0.1012],\n",
      "        [-0.0059, -0.0474,  0.0132]], grad_fn=<AddmmBackward>)\n"
     ]
    }
   ],
   "source": [
    "model = LSTMTagger(EMBEDDING_DIM, HIDDEN_DIM, len(word_to_ix), len(tag_to_ix))\n",
    "loss_function = nn.NLLLoss()\n",
    "optimizer = torch.optim.SGD(model.parameters(), lr=0.1)\n",
    " \n",
    "inputs = prepare_sequence(training_data[0][0], word_to_ix)\n",
    "tag_scores = model(inputs)\n",
    "print(training_data[0][0])\n",
    "print(inputs)\n",
    "print(tag_scores)\n"
   ]
  },
  {
   "cell_type": "code",
   "execution_count": 71,
   "metadata": {},
   "outputs": [
    {
     "name": "stdout",
     "output_type": "stream",
     "text": [
      "tensor([[4314.2197, 5726.2734, 3081.0801],\n",
      "        [4111.6675, 5986.9951, 3013.8311],\n",
      "        [4231.1958, 5719.1406, 3152.9321],\n",
      "        [4342.7114, 5693.6313, 3097.6074],\n",
      "        [4111.6812, 5986.9902, 3013.8496]], grad_fn=<AddmmBackward>)\n"
     ]
    }
   ],
   "source": [
    "for epoch in range(300): # 我们要训练300次，可以根据任务量的大小酌情修改次数。\n",
    "    for sentence, tags in training_data:\n",
    "        # 清除网络先前的梯度值，梯度值是Pytorch的变量才有的数据，Pytorch张量没有\n",
    "        model.zero_grad()\n",
    "        # 重新初始化隐藏层数据，避免受之前运行代码的干扰\n",
    "        model.hidden = model.init_hidden()\n",
    "        # 准备网络可以接受的的输入数据和真实标签数据，这是一个监督式学习\n",
    "        sentence_in = prepare_sequence(sentence, word_to_ix)\n",
    "        targets = prepare_sequence(tags, tag_to_ix)\n",
    "        # 运行我们的模型，直接将模型名作为方法名看待即可\n",
    "        tag_scores = model(sentence_in)\n",
    "        # 计算损失，反向传递梯度及更新模型参数\n",
    "        loss = loss_function(tag_scores, targets)\n",
    "        loss.backward()\n",
    "        optimizer.step()\n",
    " \n",
    "# 来检验下模型训练的结果\n",
    "inputs = prepare_sequence(training_data[0][0], word_to_ix)\n",
    "tag_scores = model(inputs)\n",
    "print(tag_scores)"
   ]
  },
  {
   "cell_type": "code",
   "execution_count": null,
   "metadata": {},
   "outputs": [],
   "source": []
  },
  {
   "cell_type": "code",
   "execution_count": null,
   "metadata": {},
   "outputs": [],
   "source": []
  },
  {
   "cell_type": "code",
   "execution_count": 98,
   "metadata": {},
   "outputs": [],
   "source": [
    "import torch\n",
    "from torch.autograd import Variable\n",
    "import torch.nn as nn\n",
    "import pandas as pd\n",
    "from pandas import DataFrame\n",
    "import matplotlib.pyplot as plt\n",
    "import numpy as np"
   ]
  },
  {
   "cell_type": "code",
   "execution_count": 126,
   "metadata": {},
   "outputs": [
    {
     "name": "stdout",
     "output_type": "stream",
     "text": [
      "tensor([[[0.0120, 0.0241, 0.5422]],\n",
      "\n",
      "        [[0.0241, 0.5422, 0.9398]],\n",
      "\n",
      "        [[0.5422, 0.9398, 0.0482]],\n",
      "\n",
      "        [[0.9398, 0.0482, 0.0964]],\n",
      "\n",
      "        [[0.0482, 0.0964, 0.0843]],\n",
      "\n",
      "        [[0.0964, 0.0843, 0.0120]],\n",
      "\n",
      "        [[0.0843, 0.0120, 0.0964]],\n",
      "\n",
      "        [[0.0120, 0.0964, 0.0843]],\n",
      "\n",
      "        [[0.0964, 0.0843, 0.0482]],\n",
      "\n",
      "        [[0.0843, 0.0482, 0.0843]],\n",
      "\n",
      "        [[0.0482, 0.0843, 0.0482]],\n",
      "\n",
      "        [[0.0843, 0.0482, 0.0843]],\n",
      "\n",
      "        [[0.0482, 0.0843, 0.0120]],\n",
      "\n",
      "        [[0.0843, 0.0120, 0.0843]],\n",
      "\n",
      "        [[0.0120, 0.0843, 0.0602]],\n",
      "\n",
      "        [[0.0843, 0.0602, 0.0120]],\n",
      "\n",
      "        [[0.0602, 0.0120, 0.0843]],\n",
      "\n",
      "        [[0.0120, 0.0843, 0.0602]],\n",
      "\n",
      "        [[0.0843, 0.0602, 0.0482]],\n",
      "\n",
      "        [[0.0602, 0.0482, 0.0843]],\n",
      "\n",
      "        [[0.0482, 0.0843, 0.0602]],\n",
      "\n",
      "        [[0.0843, 0.0602, 0.0482]],\n",
      "\n",
      "        [[0.0602, 0.0482, 0.0843]],\n",
      "\n",
      "        [[0.0482, 0.0843, 0.0602]],\n",
      "\n",
      "        [[0.0843, 0.0602, 0.0482]],\n",
      "\n",
      "        [[0.0602, 0.0482, 0.0843]],\n",
      "\n",
      "        [[0.0482, 0.0843, 0.0964]],\n",
      "\n",
      "        [[0.0843, 0.0964, 0.0602]],\n",
      "\n",
      "        [[0.0964, 0.0602, 0.0964]],\n",
      "\n",
      "        [[0.0602, 0.0964, 0.1084]],\n",
      "\n",
      "        [[0.0964, 0.1084, 0.0723]],\n",
      "\n",
      "        [[0.1084, 0.0723, 0.0843]],\n",
      "\n",
      "        [[0.0723, 0.0843, 0.0964]],\n",
      "\n",
      "        [[0.0843, 0.0964, 0.0602]],\n",
      "\n",
      "        [[0.0964, 0.0602, 0.0843]],\n",
      "\n",
      "        [[0.0602, 0.0843, 0.0964]],\n",
      "\n",
      "        [[0.0843, 0.0964, 0.0602]],\n",
      "\n",
      "        [[0.0964, 0.0602, 0.0964]],\n",
      "\n",
      "        [[0.0602, 0.0964, 0.1084]]], device='cuda:0', dtype=torch.float64)\n"
     ]
    }
   ],
   "source": [
    "datas = [1,2,45,78,4,8,7,1,8,7,4,7,4,7,1,7,5,1,7,5,4,7,5,4,7,5,4,7,8,5,8,9,6,7,8,5,7,8,5,8,9,5,4,7,5,7,9,5,74,4,8,5,7,84,7,8,74,4,4]\n",
    "\n",
    "#归一化处理，这一步必不可少，不然后面训练数据误差会很大，模型没法用\n",
    "\n",
    "max_value = np.max(datas)\n",
    "\n",
    "min_value = np.min(datas)\n",
    "scalar = max_value - min_value\n",
    "datas = list(map(lambda x: x / scalar, datas))\n",
    "\n",
    "#数据集和目标值赋值，dataset为数据，look_back为以几行数据为特征维度数量\n",
    "\n",
    "def creat_dataset(dataset,look_back):\n",
    "    data_x = []\n",
    "    data_y = []\n",
    "    for i in range(len(dataset)-look_back):\n",
    "        data_x.append(dataset[i:i+look_back])\n",
    "        data_y.append(dataset[i+look_back])\n",
    "    return np.asarray(data_x), np.asarray(data_y) #转为ndarray数据\n",
    "\n",
    "#以2为特征维度，得到数据集\n",
    "\n",
    "\n",
    "\n",
    "dataX, dataY = creat_dataset(datas,3)\n",
    "\n",
    "\n",
    " \n",
    "\n",
    "train_size = int(len(dataX)*0.7)\n",
    "\n",
    "x_train = dataX[:train_size] #训练数据\n",
    "y_train = dataY[:train_size] #训练数据目标值\n",
    "\n",
    "x_train = x_train.reshape(-1, 1, 3) #将训练数据调整成pytorch中lstm算法的输入维度\n",
    "y_train = y_train.reshape(-1, 1, 1)  #将目标值调整成pytorch中lstm算法的输出维度\n",
    "\n",
    " #将ndarray数据转换为张量，因为pytorch用的数据类型是张量\n",
    "\n",
    "x_train = torch.from_numpy(x_train).cuda()\n",
    "y_train = torch.from_numpy(y_train).cuda()\n",
    "\n",
    "print(x_train)"
   ]
  },
  {
   "cell_type": "code",
   "execution_count": 127,
   "metadata": {},
   "outputs": [],
   "source": [
    "class RNN(nn.Module):\n",
    "    def __init__(self):\n",
    "        super(RNN,self).__init__() #面向对象中的继承\n",
    "        self.lstm = nn.LSTM(1,6,2) #输入数据1个特征维度，6个隐藏层维度，2个LSTM串联，第二个LSTM接收第一个的计算结果\n",
    "        self.out = nn.Linear(6,3) #线性拟合，接收数据的维度为6，输出数据的维度为3\n",
    "    def forward(self,x):\n",
    "        x1,_ = self.lstm(x)\n",
    "        a,b,c = x1.shape\n",
    "        out = self.out(x1.view(-1,c)) #因为线性层输入的是个二维数据，所以此处应该将lstm输出的三维数据x1调整成二维数据，最后的特征维度不能变\n",
    "        out1 = out.view(a,b,-1) #因为是循环神经网络，最后的时候要把二维的out调整成三维数据，下一次循环使用\n",
    "        return out1\n",
    "\n",
    "rnn = RNN().cuda()\n",
    "\n",
    "#参数寻优，计算损失函数\n",
    "\n",
    "optimizer = torch.optim.Adam(rnn.parameters(),lr = 0.02)\n",
    "loss_func = nn.MSELoss()"
   ]
  },
  {
   "cell_type": "code",
   "execution_count": 128,
   "metadata": {},
   "outputs": [
    {
     "name": "stdout",
     "output_type": "stream",
     "text": [
      "Epoch:100, Loss:0.00349\n",
      "Epoch:200, Loss:0.00043\n",
      "Epoch:300, Loss:0.00032\n",
      "Epoch:400, Loss:0.00015\n",
      "Epoch:500, Loss:0.00004\n",
      "Epoch:600, Loss:0.00003\n",
      "Epoch:700, Loss:0.00001\n",
      "Epoch:800, Loss:0.00001\n",
      "Epoch:900, Loss:0.00000\n",
      "Epoch:1000, Loss:0.00000\n"
     ]
    }
   ],
   "source": [
    "for i in range(1000):\n",
    "    var_x = Variable(x_train).type(torch.FloatTensor).cuda()\n",
    "    var_y = Variable(y_train).type(torch.FloatTensor).cuda()\n",
    "    out = rnn(var_y)\n",
    "    loss = loss_func(out,var_x)\n",
    "    optimizer.zero_grad()\n",
    "    loss.backward()\n",
    "    optimizer.step()\n",
    "    if (i+1)%100==0:\n",
    "        print('Epoch:{}, Loss:{:.5f}'.format(i+1, loss.item()))"
   ]
  },
  {
   "cell_type": "code",
   "execution_count": 103,
   "metadata": {},
   "outputs": [],
   "source": [
    "dataX1 = dataY.reshape(-1,1,1)\n",
    "dataX2 = torch.from_numpy(dataX1)\n",
    "var_dataX = Variable(dataX2).type(torch.FloatTensor)\n",
    "\n",
    " \n",
    "\n",
    "pred = rnn(var_dataX)\n",
    "\n",
    "pred_test = pred.view(-1).data.numpy()  #转换成一维的ndarray数据，这是预测值"
   ]
  },
  {
   "cell_type": "code",
   "execution_count": 118,
   "metadata": {},
   "outputs": [
    {
     "data": {
      "text/plain": [
       "<matplotlib.legend.Legend at 0x20e454002e8>"
      ]
     },
     "execution_count": 118,
     "metadata": {},
     "output_type": "execute_result"
    },
    {
     "data": {
      "image/png": "[encoded data removed]",
      "text/plain": [
       "<Figure size 432x288 with 1 Axes>"
      ]
     },
     "metadata": {
      "needs_background": "light"
     },
     "output_type": "display_data"
    }
   ],
   "source": [
    "# plt.plot(pred.view(-1).data.numpy(), 'r', label='prediction')\n",
    "plt.plot(dataX[:,0],dataX[:,1], 'b.', label='real')\n",
    "plt.legend(loc='best')"
   ]
  },
  {
   "cell_type": "code",
   "execution_count": 114,
   "metadata": {},
   "outputs": [
    {
     "name": "stdout",
     "output_type": "stream",
     "text": [
      "[0.01204819 0.02409639 0.54216867 0.93975904 0.04819277 0.09638554\n",
      " 0.08433735 0.01204819 0.09638554 0.08433735 0.04819277 0.08433735\n",
      " 0.04819277 0.08433735 0.01204819 0.08433735 0.06024096 0.01204819\n",
      " 0.08433735 0.06024096 0.04819277 0.08433735 0.06024096 0.04819277\n",
      " 0.08433735 0.06024096 0.04819277 0.08433735 0.09638554 0.06024096\n",
      " 0.09638554 0.10843373 0.07228916 0.08433735 0.09638554 0.06024096\n",
      " 0.08433735 0.09638554 0.06024096 0.09638554 0.10843373 0.06024096\n",
      " 0.04819277 0.08433735 0.06024096 0.08433735 0.10843373 0.06024096\n",
      " 0.89156627 0.04819277 0.09638554 0.06024096 0.08433735 1.01204819\n",
      " 0.08433735 0.09638554 0.89156627]\n"
     ]
    }
   ],
   "source": [
    "dataX = np.array(dataX)\n",
    "print(dataX[:,0])"
   ]
  },
  {
   "cell_type": "code",
   "execution_count": null,
   "metadata": {},
   "outputs": [],
   "source": []
  }
 ],
 "metadata": {
  "kernelspec": {
   "display_name": "Python [conda env:pytorch]",
   "language": "python",
   "name": "conda-env-pytorch-py"
  },
  "language_info": {
   "codemirror_mode": {
    "name": "ipython",
    "version": 3
   },
   "file_extension": ".py",
   "mimetype": "text/x-python",
   "name": "python",
   "nbconvert_exporter": "python",
   "pygments_lexer": "ipython3",
   "version": "3.7.3"
  }
 },
 "nbformat": 4,
 "nbformat_minor": 2
}
