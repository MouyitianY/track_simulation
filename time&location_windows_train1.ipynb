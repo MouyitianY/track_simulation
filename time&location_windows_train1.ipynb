{
 "cells": [
  {
   "cell_type": "code",
   "execution_count": null,
   "metadata": {},
   "outputs": [],
   "source": [
    "import torch\n",
    "import torch.nn as nn\n",
    "import torch.nn.functional as F\n",
    "from torch.autograd import Variable\n",
    "import pandas as pd\n",
    "from pandas import DataFrame\n",
    "import numpy as np\n",
    "\n",
    "import matplotlib.pyplot as plt"
   ]
  },
  {
   "cell_type": "code",
   "execution_count": 51,
   "metadata": {},
   "outputs": [
    {
     "name": "stdout",
     "output_type": "stream",
     "text": [
      "4328\n"
     ]
    }
   ],
   "source": [
    "# 模拟数据获取\n",
    "from airplane import Airplane\n",
    "from receiver import Receiver\n",
    "\n",
    "airplane1 = Airplane('782034',[108.128234,33.2141348,10000],[110.86143245,35.750012,10000],180,0)\n",
    "receiver1 = Receiver([108.7187911987,34.0290298462,435],dirfting=-500,NoiseRange=(0,0))\n",
    "receiver2 = Receiver([108.7135726929,34.0363121033,427],dirfting=500,NoiseRange=(0,0))\n",
    "# receiver3 = Receiver([118.56588,34.448925,500])\n",
    "time_track1 =receiver1.fin_time_track(airplane1)\n",
    "time_track2 =receiver2.fin_time_track(airplane1)\n",
    "# time_track3 =receiver3.fin_time_track(airplane1)\n",
    "track = airplane1.track\n",
    "print(len(track))"
   ]
  },
  {
   "cell_type": "code",
   "execution_count": 52,
   "metadata": {
    "scrolled": true
   },
   "outputs": [
    {
     "data": {
      "image/png": "[encoded data removed]",
      "text/plain": [
       "<Figure size 432x288 with 1 Axes>"
      ]
     },
     "metadata": {
      "needs_background": "light"
     },
     "output_type": "display_data"
    },
    {
     "data": {
      "image/png": "[encoded data removed]",
      "text/plain": [
       "<Figure size 432x288 with 1 Axes>"
      ]
     },
     "metadata": {
      "needs_background": "light"
     },
     "output_type": "display_data"
    }
   ],
   "source": [
    "# 预处理step1\n",
    "# 获取TDOA DDOA\n",
    "import matplotlib.pyplot as plt\n",
    "from math import radians, cos, sin, asin, sqrt,pi, atan\n",
    "\n",
    "TDOA_12 = [] #到达时间差\n",
    "DDOA_12 = [] #距离差\n",
    "time_line = time_track1\n",
    "\n",
    "\n",
    "for i in range(len(track)):\n",
    "    TDOA_12.append(time_track1[i] - time_track2[i])\n",
    "    DDOA_12.append(airplane1.geodistance(track[i],receiver1.location)-airplane1.geodistance(track[i],receiver2.location))\n",
    "    \n",
    "\n",
    "# plt.plot(using_data[19:79], test_data[19:79])\n",
    "plt.plot(time_line, TDOA_12)\n",
    "plt.show()\n",
    "# plt.ylim(0.39,0.6)\n",
    "# plt.xlim(0.39,0.6)\n",
    "plt.plot(time_line, DDOA_12)\n",
    "plt.show()\n"
   ]
  },
  {
   "cell_type": "code",
   "execution_count": 61,
   "metadata": {},
   "outputs": [
    {
     "name": "stdout",
     "output_type": "stream",
     "text": [
      "tensor([1.0000, 0.9996, 0.9991, 0.9987, 0.9982, 0.9976, 0.9972, 0.9968, 0.9963,\n",
      "        0.9959])\n",
      "[[-0.9995606797279919, -0.9993227427357034, 0.9986927497370104], [-0.9991213594559838, -0.9986459851585217, 0.99738627239417], [-0.9986820391839899, -0.9979697270704797, 0.9960805668485051], [-0.9982427189119818, -0.997293968273528, 0.9947756319770598], [-0.9978033986399737, -0.9966187085696312, 0.9934714666568638], [-0.9973640783679798, -0.995943947760793, 0.9921680697649613], [-0.9969247580959717, -0.9952696856489744, 0.9908654401783892], [-0.9964854378239778, -0.9945959220361544, 0.9895635767741808], [-0.9960461175519555, -0.9939226567242834, 0.9882624784293697], [-0.9956067972799616, -0.9932498895153756, 0.9869621440210068]]\n"
     ]
    }
   ],
   "source": [
    "# 预处理step3\n",
    "# 训练集数据归一化，并化为cuda类型\n",
    "from sklearn.preprocessing import MinMaxScaler\n",
    "sc = MinMaxScaler(feature_range=(-1,1))\n",
    "\n",
    "TDOA_array = np.array(TDOA_12)\n",
    "TDOA_norm = sc.fit_transform(TDOA_array.reshape(-1,1))\n",
    "TDOA_norm = torch.FloatTensor(TDOA_norm).view(-1)\n",
    "print(TDOA_norm[0:10])\n",
    "\n",
    "lng = []\n",
    "lat = []\n",
    "alt = []\n",
    "\n",
    "for position in track:\n",
    "    lng.append(position[0])\n",
    "    lat.append(position[1])\n",
    "    alt.append(position[2])\n",
    "\n",
    "lng_array = np.array(lng)\n",
    "lng_norm = sc.fit_transform(lng_array.reshape(-1,1))\n",
    "\n",
    "\n",
    "lat_array = np.array(lat)\n",
    "lat_norm = sc.fit_transform(lat_array.reshape(-1,1))\n",
    "\n",
    "alt_array = np.array(alt)\n",
    "alt_norm = sc.fit_transform(alt_array.reshape(-1,1))\n",
    "\n",
    "track_norm = [] #归一化轨迹列表\n",
    "x_data = []\n",
    "for i in range(1,len(lng_norm)):\n",
    "    track_norm.append([lng_norm[i][0],lat_norm[i][0], alt_norm[i][0]])\n",
    "    x_data.append([lng_norm[i-1][0],lat_norm[i-1][0], alt_norm[i-1][0], TDOA_norm[i]])\n",
    "    \n",
    "print(track_norm[:10])"
   ]
  },
  {
   "cell_type": "code",
   "execution_count": 62,
   "metadata": {},
   "outputs": [
    {
     "name": "stdout",
     "output_type": "stream",
     "text": [
      "[[-1.         -1.          1.          0.99960095]\n",
      " [-0.99956068 -0.99932274  0.99869275  0.99911082]\n",
      " [-0.99912136 -0.99864599  0.99738627  0.99872535]\n",
      " [-0.99868204 -0.99796973  0.99608057  0.99818176]\n",
      " [-0.99824272 -0.99729397  0.99477563  0.9976334 ]\n",
      " [-0.9978034  -0.99661871  0.99347147  0.99718475]\n",
      " [-0.99736408 -0.99594395  0.99216807  0.99679863]\n",
      " [-0.99692476 -0.99526969  0.99086544  0.99626237]\n",
      " [-0.99648544 -0.99459592  0.98956358  0.99588019]\n",
      " [-0.99604612 -0.99392266  0.98826248  0.99546325]]\n",
      "[[-0.99956068 -0.99932274  0.99869275]\n",
      " [-0.99912136 -0.99864599  0.99738627]\n",
      " [-0.99868204 -0.99796973  0.99608057]\n",
      " [-0.99824272 -0.99729397  0.99477563]\n",
      " [-0.9978034  -0.99661871  0.99347147]\n",
      " [-0.99736408 -0.99594395  0.99216807]\n",
      " [-0.99692476 -0.99526969  0.99086544]\n",
      " [-0.99648544 -0.99459592  0.98956358]\n",
      " [-0.99604612 -0.99392266  0.98826248]\n",
      " [-0.9956068  -0.99324989  0.98696214]]\n"
     ]
    }
   ],
   "source": [
    "# 预处理step2\n",
    "# 划分训练集和测试集\n",
    "\n",
    "x_data = np.array(x_data[:3000])\n",
    "y_data = np.array(track_norm[:3000])\n",
    "print(x_data[0:10])\n",
    "print(y_data[0:10])\n",
    "\n",
    "test_size = 1000\n",
    "\n",
    "x_train_set = x_data[: -test_size]\n",
    "x_test_set = x_data[-test_size:]\n",
    "\n",
    "y_train_set = y_data[: -test_size]\n",
    "y_test_set = y_data[-test_size:]"
   ]
  },
  {
   "cell_type": "code",
   "execution_count": 64,
   "metadata": {},
   "outputs": [
    {
     "name": "stdout",
     "output_type": "stream",
     "text": [
      "tensor([[[-1.0000, -1.0000,  1.0000,  0.9996]],\n",
      "\n",
      "        [[-0.9996, -0.9993,  0.9987,  0.9991]],\n",
      "\n",
      "        [[-0.9991, -0.9986,  0.9974,  0.9987]],\n",
      "\n",
      "        ...,\n",
      "\n",
      "        [[ 0.0788, -0.2995, -0.9974,  0.0759]],\n",
      "\n",
      "        [[ 0.0792, -0.2991, -0.9975,  0.0754]],\n",
      "\n",
      "        [[ 0.0796, -0.2988, -0.9975,  0.0748]]], device='cuda:0',\n",
      "       dtype=torch.float64)\n"
     ]
    }
   ],
   "source": [
    "# 预处理step4\n",
    "# 将数据处理为lstm接受的类型\n",
    "x_train = x_train_set.reshape(-1, 1, 4) #将训练数据调整成pytorch中lstm算法的输入维度\n",
    "y_train = y_train_set.reshape(-1, 1, 3)  #将目标值调整成pytorch中lstm算法的输出维度\n",
    "\n",
    " #将ndarray数据转换为张量，因为pytorch用的数据类型是张量\n",
    "\n",
    "x_train = torch.from_numpy(x_train).cuda()\n",
    "y_train = torch.from_numpy(y_train).cuda()\n",
    "\n",
    "print(x_train)"
   ]
  },
  {
   "cell_type": "code",
   "execution_count": 65,
   "metadata": {},
   "outputs": [],
   "source": [
    "class RNN(nn.Module):\n",
    "    def __init__(self):\n",
    "        super(RNN,self).__init__() #面向对象中的继承\n",
    "        self.lstm = nn.LSTM(4,60,2) #输入数据1个特征维度，6个隐藏层维度，2个LSTM串联，第二个LSTM接收第一个的计算结果\n",
    "        self.out = nn.Linear(60,3) #线性拟合，接收数据的维度为6，输出数据的维度为3\n",
    "    def forward(self,x):\n",
    "        x1,_ = self.lstm(x)\n",
    "        a,b,c = x1.shape\n",
    "        out = self.out(x1.view(-1,c)) #因为线性层输入的是个二维数据，所以此处应该将lstm输出的三维数据x1调整成二维数据，最后的特征维度不能变\n",
    "        out1 = out.view(a,b,-1) #因为是循环神经网络，最后的时候要把二维的out调整成三维数据，下一次循环使用\n",
    "        return out1\n",
    "\n",
    "rnn = RNN().cuda()\n",
    "\n",
    "#参数寻优，计算损失函数\n",
    "\n",
    "optimizer = torch.optim.Adam(rnn.parameters(),lr = 0.02)\n",
    "loss_func = nn.MSELoss()"
   ]
  },
  {
   "cell_type": "code",
   "execution_count": 66,
   "metadata": {},
   "outputs": [
    {
     "name": "stdout",
     "output_type": "stream",
     "text": [
      "Epoch:10, Loss:0.02297\n",
      "Epoch:20, Loss:0.00491\n",
      "Epoch:30, Loss:0.00157\n",
      "Epoch:40, Loss:0.00072\n",
      "Epoch:50, Loss:0.00038\n",
      "Epoch:60, Loss:0.00024\n",
      "Epoch:70, Loss:0.00016\n",
      "Epoch:80, Loss:0.00013\n",
      "Epoch:90, Loss:0.00011\n",
      "Epoch:100, Loss:0.00009\n",
      "Epoch:110, Loss:0.00008\n",
      "Epoch:120, Loss:0.00007\n",
      "Epoch:130, Loss:0.00006\n",
      "Epoch:140, Loss:0.00005\n",
      "Epoch:150, Loss:0.00005\n",
      "Epoch:160, Loss:0.00004\n",
      "Epoch:170, Loss:0.00004\n",
      "Epoch:180, Loss:0.00003\n",
      "Epoch:190, Loss:0.00003\n",
      "Epoch:200, Loss:0.00003\n",
      "Epoch:210, Loss:0.00002\n",
      "Epoch:220, Loss:0.00002\n",
      "Epoch:230, Loss:0.00002\n",
      "Epoch:240, Loss:0.00002\n",
      "Epoch:250, Loss:0.00002\n",
      "Epoch:260, Loss:0.00002\n",
      "Epoch:270, Loss:0.00001\n",
      "Epoch:280, Loss:0.00001\n",
      "Epoch:290, Loss:0.00001\n",
      "Epoch:300, Loss:0.00001\n"
     ]
    }
   ],
   "source": [
    "for i in range(300):\n",
    "    var_x = Variable(x_train).type(torch.FloatTensor).cuda()\n",
    "    var_y = Variable(y_train).type(torch.FloatTensor).cuda()\n",
    "    out = rnn(var_x)\n",
    "    loss = loss_func(out,var_y)\n",
    "    optimizer.zero_grad()\n",
    "    loss.backward()\n",
    "    optimizer.step()\n",
    "    if (i+1)%10==0:\n",
    "        print('Epoch:{}, Loss:{:.5f}'.format(i+1, loss.item()))\n",
    "        \n",
    "#         pred = rnn(var_dataX)\n",
    "#         pred_test = pred.view(-1,3).cpu().data.numpy()\n",
    "#         plt.plot(pred_test[:,0],pred_test[:,1], 'r.', label='prediction')\n",
    "#         plt.plot(y_data[:,0],y_data[:,1], 'b.', label='real')\n",
    "#         plt.show()"
   ]
  },
  {
   "cell_type": "code",
   "execution_count": 74,
   "metadata": {},
   "outputs": [],
   "source": [
    "dataX1 = x_data.reshape(-1,1,4)\n",
    "dataX2 = torch.from_numpy(dataX1)\n",
    "var_dataX = Variable(dataX2).type(torch.FloatTensor).cuda()\n",
    "rnn.eval()\n",
    "\n",
    "pred = rnn(var_dataX[-test_size:])\n",
    "\n",
    "pred_test = pred.view(-1,3).cpu().data.numpy()  #转换成一维的ndarray数据，这是预测值"
   ]
  },
  {
   "cell_type": "code",
   "execution_count": 75,
   "metadata": {},
   "outputs": [
    {
     "name": "stdout",
     "output_type": "stream",
     "text": [
      "1000 3000\n"
     ]
    }
   ],
   "source": [
    "print(len(pred_test), len(y_data))"
   ]
  },
  {
   "cell_type": "code",
   "execution_count": 79,
   "metadata": {},
   "outputs": [
    {
     "name": "stdout",
     "output_type": "stream",
     "text": [
      "tensor([[[ 0.2777, -0.0941, -0.9047, -0.1568]],\n",
      "\n",
      "        [[ 0.2781, -0.0937, -0.9042, -0.1574]],\n",
      "\n",
      "        [[ 0.2785, -0.0932, -0.9038, -0.1578]],\n",
      "\n",
      "        [[ 0.2789, -0.0928, -0.9034, -0.1582]],\n",
      "\n",
      "        [[ 0.2793, -0.0923, -0.9030, -0.1587]],\n",
      "\n",
      "        [[ 0.2796, -0.0919, -0.9025, -0.1593]],\n",
      "\n",
      "        [[ 0.2800, -0.0914, -0.9021, -0.1598]],\n",
      "\n",
      "        [[ 0.2804, -0.0910, -0.9017, -0.1603]],\n",
      "\n",
      "        [[ 0.2808, -0.0905, -0.9012, -0.1608]],\n",
      "\n",
      "        [[ 0.2812, -0.0901, -0.9008, -0.1613]]], device='cuda:0')\n",
      "tensor([[[ 0.2126, -0.1518, -1.0434]],\n",
      "\n",
      "        [[ 0.2128, -0.1516, -1.0434]],\n",
      "\n",
      "        [[ 0.2130, -0.1514, -1.0434]],\n",
      "\n",
      "        [[ 0.2132, -0.1512, -1.0434]],\n",
      "\n",
      "        [[ 0.2134, -0.1510, -1.0434]],\n",
      "\n",
      "        [[ 0.2135, -0.1508, -1.0434]],\n",
      "\n",
      "        [[ 0.2137, -0.1506, -1.0434]],\n",
      "\n",
      "        [[ 0.2139, -0.1504, -1.0434]],\n",
      "\n",
      "        [[ 0.2141, -0.1502, -1.0434]],\n",
      "\n",
      "        [[ 0.2143, -0.1499, -1.0434]]], device='cuda:0',\n",
      "       grad_fn=<SliceBackward>)\n"
     ]
    }
   ],
   "source": [
    "print(var_dataX[2500:2510])\n",
    "print(pred[500:510])"
   ]
  },
  {
   "cell_type": "code",
   "execution_count": 76,
   "metadata": {},
   "outputs": [
    {
     "data": {
      "text/plain": [
       "<matplotlib.legend.Legend at 0x1613bc58d30>"
      ]
     },
     "execution_count": 76,
     "metadata": {},
     "output_type": "execute_result"
    },
    {
     "data": {
      "image/png": "[encoded data removed]",
      "text/plain": [
       "<Figure size 432x288 with 1 Axes>"
      ]
     },
     "metadata": {
      "needs_background": "light"
     },
     "output_type": "display_data"
    }
   ],
   "source": [
    "plt.plot(pred_test[:,0],pred_test[:,1], 'r.', label='prediction')\n",
    "plt.plot(y_data[-test_size:,0],y_data[-test_size:,1], 'b.', label='real')\n",
    "plt.legend(loc='best')"
   ]
  },
  {
   "cell_type": "code",
   "execution_count": null,
   "metadata": {},
   "outputs": [],
   "source": [
    "from mpl_toolkits.mplot3d import Axes3D\n",
    "fig = plt.figure()\n",
    "ax = fig.gca(projection='3d')\n",
    "\n",
    "ax.plot(pred_test[:,0],pred_test[:,1], pred_test[:,2], 'r.', label='prediction')\n",
    "ax.plot(y_data[:,0],y_data[:,1], y_data[:,2], 'b.', label='real')\n",
    "ax.legend(loc='best')"
   ]
  },
  {
   "cell_type": "code",
   "execution_count": 114,
   "metadata": {},
   "outputs": [
    {
     "name": "stdout",
     "output_type": "stream",
     "text": [
      "[0.01204819 0.02409639 0.54216867 0.93975904 0.04819277 0.09638554\n",
      " 0.08433735 0.01204819 0.09638554 0.08433735 0.04819277 0.08433735\n",
      " 0.04819277 0.08433735 0.01204819 0.08433735 0.06024096 0.01204819\n",
      " 0.08433735 0.06024096 0.04819277 0.08433735 0.06024096 0.04819277\n",
      " 0.08433735 0.06024096 0.04819277 0.08433735 0.09638554 0.06024096\n",
      " 0.09638554 0.10843373 0.07228916 0.08433735 0.09638554 0.06024096\n",
      " 0.08433735 0.09638554 0.06024096 0.09638554 0.10843373 0.06024096\n",
      " 0.04819277 0.08433735 0.06024096 0.08433735 0.10843373 0.06024096\n",
      " 0.89156627 0.04819277 0.09638554 0.06024096 0.08433735 1.01204819\n",
      " 0.08433735 0.09638554 0.89156627]\n"
     ]
    }
   ],
   "source": [
    "dataX = np.array(dataX)\n",
    "print(dataX[:,0])"
   ]
  },
  {
   "cell_type": "code",
   "execution_count": null,
   "metadata": {},
   "outputs": [],
   "source": []
  }
 ],
 "metadata": {
  "kernelspec": {
   "display_name": "Python [conda env:pytorch]",
   "language": "python",
   "name": "conda-env-pytorch-py"
  },
  "language_info": {
   "codemirror_mode": {
    "name": "ipython",
    "version": 3
   },
   "file_extension": ".py",
   "mimetype": "text/x-python",
   "name": "python",
   "nbconvert_exporter": "python",
   "pygments_lexer": "ipython3",
   "version": "3.7.3"
  }
 },
 "nbformat": 4,
 "nbformat_minor": 2
}
