{
 "cells": [
  {
   "cell_type": "code",
   "execution_count": 1,
   "metadata": {},
   "outputs": [],
   "source": [
    "from airplane import Airplane\n",
    "from receiver import Receiver\n",
    "\n",
    "airplane1 = Airplane('782034',[120.128234,30.2141348],[115.86143245,28.750012],180,1564503340)\n",
    "receiver1 = Receiver([114.122588,36.548925])\n",
    "time_track1 =receiver1.fin_time_track(airplane1)\n",
    "track1 = airplane1.gettrack()"
   ]
  },
  {
   "cell_type": "code",
   "execution_count": 2,
   "metadata": {},
   "outputs": [
    {
     "data": {
      "image/png": "[encoded data removed]",
      "text/plain": [
       "<Figure size 432x288 with 1 Axes>"
      ]
     },
     "metadata": {
      "needs_background": "light"
     },
     "output_type": "display_data"
    }
   ],
   "source": [
    "import matplotlib.pyplot as plt\n",
    "from math import radians, cos, sin, asin, sqrt,pi, atan\n",
    "\n",
    "using_data = time_track1\n",
    "test_data = []\n",
    "\n",
    "for i in range(len(using_data)-1):\n",
    "    test_data.append(using_data[i+1]-using_data[i]-airplane1.geodistance(track1[i+1],receiver1.location)*10/3)\n",
    "\n",
    "# plt.plot(using_data[19:79], test_data[19:79])\n",
    "plt.plot(using_data[:-1], test_data)\n",
    "\n",
    "# plt.ylim(0.39,0.6)\n",
    "# plt.xlim(0.39,0.6)\n",
    "\n",
    "plt.show()"
   ]
  },
  {
   "cell_type": "code",
   "execution_count": 3,
   "metadata": {},
   "outputs": [
    {
     "name": "stdout",
     "output_type": "stream",
     "text": [
      "tensor([47006796., 47007132., 47007208.,  ..., 47067012., 47066956.,\n",
      "        47066644.])\n",
      "tensor([47006796., 47007132., 47007208.,  ..., 47069468., 47069672.,\n",
      "        47069620.])\n",
      "tensor([47069820., 47069512., 47069456., 47069404., 47069604., 47069296.,\n",
      "        47069244., 47069188., 47069136., 47069080., 47069284., 47068972.,\n",
      "        47068664., 47068864., 47068300., 47068756., 47068448., 47068392.,\n",
      "        47068596., 47068796., 47068228., 47068176., 47068376., 47068324.,\n",
      "        47068524., 47068216., 47068160., 47068104., 47068052., 47068252.,\n",
      "        47067940., 47068144., 47067320., 47067780., 47067468., 47067668.,\n",
      "        47067360., 47067560., 47067504., 47067196., 47067140., 47067084.,\n",
      "        47067028., 47067232., 47067176., 47067376., 47066812., 47067012.,\n",
      "        47066956., 47066644.])\n"
     ]
    }
   ],
   "source": [
    "# len(using_data)\n",
    "import torch\n",
    "import torch.nn as nn\n",
    "import numpy as np\n",
    "import pandas as pd\n",
    "import matplotlib.pyplot as plt\n",
    "\n",
    "test_data = torch.tensor(test_data[0:4800])\n",
    "print(test_data)\n",
    "test_size = 50\n",
    "train_set = test_data[: -test_size]\n",
    "test_set = test_data[-test_size:]\n",
    "\n",
    "print(train_set)\n",
    "print(test_set)\n"
   ]
  },
  {
   "cell_type": "code",
   "execution_count": 37,
   "metadata": {},
   "outputs": [
    {
     "name": "stdout",
     "output_type": "stream",
     "text": [
      "4750\n",
      "4800\n"
     ]
    }
   ],
   "source": [
    "print(len(train_set))\n",
    "print(len(test_data))"
   ]
  },
  {
   "cell_type": "code",
   "execution_count": null,
   "metadata": {},
   "outputs": [],
   "source": [
    "from sklearn.preprocessing import MinMaxScaler\n",
    "sc = MinMaxScaler(feature_range=(-1,1))\n",
    "\n",
    "train_set_array = np.array(train_set)\n",
    "train_norm = sc.fit_transform(train_set_array.reshape(-1,1))\n",
    "train_norm = torch.FloatTensor(train_norm).view(-1).to(device)"
   ]
  },
  {
   "cell_type": "code",
   "execution_count": 21,
   "metadata": {},
   "outputs": [
    {
     "name": "stdout",
     "output_type": "stream",
     "text": [
      "4700\n",
      "(tensor([-1.0000, -0.9941, -0.9928, -0.9870, -0.9901, -0.9843, -0.9829, -0.9815,\n",
      "        -0.9847, -0.9833, -0.9819, -0.9806, -0.9748, -0.9734, -0.9720, -0.9707,\n",
      "        -0.9694, -0.9680, -0.9756, -0.9697, -0.9684, -0.9716, -0.9658, -0.9644,\n",
      "        -0.9675, -0.9572, -0.9604, -0.9590, -0.9576, -0.9473, -0.9505, -0.9625,\n",
      "        -0.9567, -0.9509, -0.9451, -0.9482, -0.9424, -0.9410, -0.9442, -0.9384,\n",
      "        -0.9371, -0.9447, -0.9388, -0.9330, -0.9406, -0.9348, -0.9245, -0.9366,\n",
      "        -0.9353, -0.9250], device='cuda:0'), tensor([-0.9192], device='cuda:0'))\n"
     ]
    }
   ],
   "source": [
    "def input_data(seq,ws):\n",
    "    out = []\n",
    "    L = len(seq)\n",
    "\n",
    "    for i in range(L-ws):\n",
    "        window = seq[i : i+ws]\n",
    "        label = seq[i+ws : i+ws+1]\n",
    "        out.append((window,label))\n",
    "\n",
    "    return out\n",
    "\n",
    "\n",
    "\n",
    "window_size = 50\n",
    "train_data = input_data(train_norm, window_size)\n",
    "# print(train_data)\n",
    "print(len(train_data))\n",
    "print(train_data[0])"
   ]
  },
  {
   "cell_type": "code",
   "execution_count": 19,
   "metadata": {},
   "outputs": [
    {
     "name": "stdout",
     "output_type": "stream",
     "text": [
      "LSTM(\n",
      "  (lstm): LSTM(1, 50)\n",
      "  (linear): Linear(in_features=50, out_features=1, bias=True)\n",
      ")\n",
      "200\n",
      "10000\n",
      "200\n",
      "200\n",
      "50\n",
      "1\n"
     ]
    }
   ],
   "source": [
    "class LSTM(nn.Module):\n",
    "    def __init__(self, input_size=1, hidden_size=50,out_size=1):\n",
    "        super().__init__()\n",
    "        self.hidden_size = hidden_size\n",
    "        self.lstm = nn.LSTM(input_size, hidden_size)\n",
    "        self.linear = nn.Linear(hidden_size,out_size)\n",
    "        self.hidden = ( torch.zeros(1, 1, hidden_size), torch.zeros(1, 1, hidden_size))\n",
    "\n",
    "    def forward(self,seq):\n",
    "        lstm_out, self.hidden = self.lstm(seq.view(len(seq), 1, -1), self.hidden)\n",
    "        pred= self.linear(lstm_out.view(len(seq), -1))\n",
    "\n",
    "        return pred[-1]\n",
    "\n",
    "\n",
    "torch.manual_seed(42)\n",
    "model = LSTM().cuda()\n",
    "# train_data.cuda()\n",
    "criterion = nn.MSELoss()\n",
    "optimizer = torch.optim.SGD(model.parameters(), lr = 0.01)\n",
    "\n",
    "\n",
    "print(model)\n",
    "\n",
    "\n",
    "for p in model.parameters():\n",
    "    print(p.numel())"
   ]
  },
  {
   "cell_type": "code",
   "execution_count": 26,
   "metadata": {},
   "outputs": [
    {
     "name": "stdout",
     "output_type": "stream",
     "text": [
      " Epoch 0 Loss:  0.0007358497241511941\n",
      " Epoch 1 Loss:  0.0005126437172293663\n",
      " Epoch 2 Loss:  0.0003237049968447536\n",
      " Epoch 3 Loss:  0.00018888966587837785\n",
      " Epoch 4 Loss:  0.00010507888509891927\n",
      " Epoch 5 Loss:  5.7769997511059046e-05\n",
      " Epoch 6 Loss:  3.2486088457517326e-05\n",
      " Epoch 7 Loss:  1.9220009562559426e-05\n",
      " Epoch 8 Loss:  1.2196337593195494e-05\n",
      " Epoch 9 Loss:  8.376007826882415e-06\n",
      " Epoch 10 Loss:  6.2212989178078715e-06\n",
      " Epoch 11 Loss:  4.957276814820943e-06\n",
      " Epoch 12 Loss:  4.18710760641261e-06\n",
      " Epoch 13 Loss:  3.700631850733771e-06\n",
      " Epoch 14 Loss:  3.3824580896180123e-06\n",
      " Epoch 15 Loss:  3.16716523229843e-06\n",
      " Epoch 16 Loss:  3.0159735615598038e-06\n",
      " Epoch 17 Loss:  2.905799874497461e-06\n",
      " Epoch 18 Loss:  2.821779617079301e-06\n",
      " Epoch 19 Loss:  2.755168907242478e-06\n",
      " Epoch 20 Loss:  2.699994411159423e-06\n",
      " Epoch 21 Loss:  2.6525808607402723e-06\n",
      " Epoch 22 Loss:  2.6104003154614475e-06\n",
      " Epoch 23 Loss:  2.572189032434835e-06\n",
      " Epoch 24 Loss:  2.5367271518916823e-06\n",
      " Epoch 25 Loss:  2.50313792093948e-06\n",
      " Epoch 26 Loss:  2.4713651782803936e-06\n",
      " Epoch 27 Loss:  2.4407263481407426e-06\n",
      " Epoch 28 Loss:  2.4115281576087e-06\n",
      " Epoch 29 Loss:  2.3830348254705314e-06\n",
      " Epoch 30 Loss:  2.3555796815344365e-06\n",
      " Epoch 31 Loss:  2.3288066586246714e-06\n",
      " Epoch 32 Loss:  2.3028649138723267e-06\n",
      " Epoch 33 Loss:  2.2775184334022924e-06\n",
      " Epoch 34 Loss:  2.252938202218502e-06\n",
      " Epoch 35 Loss:  2.2291142158792354e-06\n",
      " Epoch 36 Loss:  2.2056603938835906e-06\n",
      " Epoch 37 Loss:  2.183035121561261e-06\n",
      " Epoch 38 Loss:  2.1608111637760885e-06\n",
      " Epoch 39 Loss:  2.139223852282157e-06\n",
      " Epoch 40 Loss:  2.118222028002492e-06\n",
      " Epoch 41 Loss:  2.0976692667318275e-06\n",
      " Epoch 42 Loss:  2.077689032375929e-06\n",
      " Epoch 43 Loss:  2.0579755073413253e-06\n",
      " Epoch 44 Loss:  2.038909087787033e-06\n",
      " Epoch 45 Loss:  2.0204611246299464e-06\n",
      " Epoch 46 Loss:  2.002202108997153e-06\n",
      " Epoch 47 Loss:  1.984529944820679e-06\n",
      " Epoch 48 Loss:  1.9671240352181485e-06\n",
      " Epoch 49 Loss:  1.950315208887332e-06\n"
     ]
    }
   ],
   "source": [
    "epochs = 50\n",
    "future =50\n",
    "\n",
    "for i in range(epochs):\n",
    "    for seq, y_train in train_data:\n",
    "        optimizer.zero_grad()\n",
    "        model.hidden = (torch.zeros(1,1, model.hidden_size).cuda(), torch.zeros(1,1, model.hidden_size).cuda())\n",
    "        y_pred = model(seq)\n",
    "\n",
    "        loss = criterion(y_pred, y_train)\n",
    "        loss.backward()\n",
    "        optimizer.step()\n",
    "    \n",
    "    preds = train_set [-window_size:].tolist()\n",
    "\n",
    "#     for f in range(future):\n",
    "#         seq = torch.FloatTensor(preds [-window_size:])\n",
    "#         with torch.no_grad():\n",
    "#             model.hidden = (torch.zeros(1,1, model.hidden_size), torch.zeros(1,1, model.hidden_size))\n",
    "#             preds.append(model(seq).item())\n",
    "    \n",
    "#     plt.figure(figsize=(12,4))\n",
    "#     # plt.xlim(700,801)\n",
    "#     plt.grid(True)\n",
    "#     plt.plot(test_data.numpy())\n",
    "#     plt.plot(range(4800,4850), preds[-window_size:])\n",
    "#     plt.title(\"Forcasting based on the training data and compare with test data\")\n",
    "#     plt.show()\n",
    "    \n",
    "\n",
    "    print( f\" Epoch {i} Loss:  {loss.item()}\")"
   ]
  },
  {
   "cell_type": "code",
   "execution_count": 51,
   "metadata": {},
   "outputs": [
    {
     "name": "stdout",
     "output_type": "stream",
     "text": [
      "[0.14007568359375, 0.14544677734375, 0.15087890625, 0.142822265625, 0.148193359375, 0.14013671875, 0.1455078125, 0.15093994140625, 0.14727783203125, 0.148193359375, 0.14910888671875, 0.15447998046875, 0.1553955078125, 0.16082763671875, 0.15277099609375, 0.1580810546875, 0.1500244140625, 0.1553955078125, 0.16082763671875, 0.16619873046875, 0.15814208984375, 0.15899658203125, 0.16436767578125, 0.165283203125, 0.170654296875, 0.15362548828125, 0.15899658203125, 0.1688232421875, 0.16082763671875, 0.16168212890625, 0.16253662109375, 0.17242431640625, 0.17333984375, 0.17425537109375, 0.17510986328125, 0.1715087890625, 0.1768798828125, 0.177734375, 0.17864990234375, 0.1795654296875, 0.17144775390625, 0.18133544921875, 0.177734375, 0.18304443359375, 0.1839599609375, 0.180419921875, 0.18572998046875, 0.1866455078125, 0.1920166015625, 0.18389892578125]\n"
     ]
    }
   ],
   "source": [
    "future = 1000\n",
    "preds = train_norm[1000:1050].tolist()\n",
    "\n",
    "print(preds)\n",
    "model.eval()\n",
    "\n",
    "for i in range(future):\n",
    "    seq = torch.FloatTensor(preds[-window_size:]).to(device)\n",
    "    with torch.no_grad():\n",
    "        model.hidden = (torch.zeros(1,1,model.hidden_size).to(device),torch.zeros(1,1,model.hidden_size).to(device))\n",
    "        preds.append(model(seq).item())\n",
    "\n",
    "# print(preds)"
   ]
  },
  {
   "cell_type": "code",
   "execution_count": 54,
   "metadata": {},
   "outputs": [],
   "source": [
    "predictions = sc.inverse_transform(np.array(preds[0:]).reshape(-1, 1))\n",
    "# true = sc.inverse_transform(np.array(train_norm[50:1050]).reshape(-1, 1))"
   ]
  },
  {
   "cell_type": "code",
   "execution_count": 55,
   "metadata": {},
   "outputs": [
    {
     "data": {
      "text/plain": [
       "<matplotlib.legend.Legend at 0x7fbd14f8d610>"
      ]
     },
     "execution_count": 55,
     "metadata": {},
     "output_type": "execute_result"
    },
    {
     "data": {
      "image/png": "[encoded data removed]",
      "text/plain": [
       "<Figure size 432x288 with 1 Axes>"
      ]
     },
     "metadata": {
      "needs_background": "light"
     },
     "output_type": "display_data"
    }
   ],
   "source": [
    "plt.plot(test_data[1000:4050],label='True')\n",
    "plt.plot(predictions,label='Predictions')\n",
    "plt.xlabel(\"Months\")\n",
    "plt.ylabel(\"Passenger Number\");\n",
    "plt.legend()"
   ]
  },
  {
   "cell_type": "code",
   "execution_count": 17,
   "metadata": {},
   "outputs": [
    {
     "name": "stdout",
     "output_type": "stream",
     "text": [
      "数据加载完成\n",
      "76798\n"
     ]
    }
   ],
   "source": [
    "import pymysql\n",
    "\n",
    "conn=pymysql.connect(host=\"47.95.200.134\",port=3306,user=\"lzj\",password=\"123.aaaAAA\",database=\"ADSB\",charset=\"utf8\")\n",
    "cursor=conn.cursor()\n",
    "sql=\"select shiyanshi1.f_time,shiyanshi1.hp_time,shiyanshi1.longitude,shiyanshi1.latitude,shiyanshi1.icao \\\n",
    "    from shiyanshi1 order by shiyanshi1.icao,shiyanshi1.f_time,shiyanshi1.hp_time;\"\n",
    "# 获取多条查询数据\n",
    "all_data = [] #[time1(ns),time2(ns),]\n",
    "i=0\n",
    "try:  \n",
    "    cursor.execute(sql)    #执行sql语句  \n",
    "    results = cursor.fetchall()    #获取查询的所有记录  \n",
    "    for row in results :\n",
    "        f_time1 = row[0]  \n",
    "        hp_time1 = row[1]   \n",
    "        \n",
    "        all_data.append([])\n",
    "        all_data[i].append(f_time1*1000000000+hp_time1)\n",
    "        all_data[i].append(row[2])\n",
    "        all_data[i].append(row[3])\n",
    "        all_data[i].append(row[4])\n",
    "        i+=1\n",
    "        \n",
    "    print(\"数据加载完成\")\n",
    "    print(len(all_data))\n",
    "#     print(all_data[0:100])\n",
    "\n",
    "except Exception as e:  \n",
    "    raise e  \n",
    "finally:  \n",
    "    conn.close()  #关闭连接 "
   ]
  },
  {
   "cell_type": "code",
   "execution_count": 64,
   "metadata": {},
   "outputs": [
    {
     "data": {
      "image/png": "[encoded data removed]",
      "text/plain": [
       "<Figure size 432x288 with 1 Axes>"
      ]
     },
     "metadata": {
      "needs_background": "light"
     },
     "output_type": "display_data"
    },
    {
     "data": {
      "image/png": "[encoded data removed]",
      "text/plain": [
       "<Figure size 432x288 with 1 Axes>"
      ]
     },
     "metadata": {
      "needs_background": "light"
     },
     "output_type": "display_data"
    }
   ],
   "source": [
    "import matplotlib.pyplot as plt\n",
    "\n",
    "using_data = []\n",
    "for a in all_data:\n",
    "    if a[3] == '750477':\n",
    "        using_data.append(a[0]/1000000000)\n",
    "using_data.sort()\n",
    "test_data = []\n",
    "for i in range(len(using_data)-1):\n",
    "    test_data.append((using_data[i+1]-using_data[i]))\n",
    "\n",
    "# plt.plot(using_data[19:79], test_data[19:79])\n",
    "# plt.plot(using_data[70000:-1], test_data[70000:],'.')\n",
    "plt.plot( test_data,'.')\n",
    "\n",
    "plt.ylim(0,1.5)\n",
    "# plt.xlim(0.39,0.6)\n",
    "\n",
    "plt.show()\n",
    "\n",
    "x= []\n",
    "for a in test_data:\n",
    "    if a<1.3:\n",
    "        x.append(a)\n",
    "plt.hist(x)\n",
    "plt.show()"
   ]
  },
  {
   "cell_type": "code",
   "execution_count": 3,
   "metadata": {},
   "outputs": [
    {
     "ename": "ModuleNotFoundError",
     "evalue": "No module named 'pyecharts'",
     "output_type": "error",
     "traceback": [
      "\u001b[1;31m---------------------------------------------------------------------------\u001b[0m",
      "\u001b[1;31mModuleNotFoundError\u001b[0m                       Traceback (most recent call last)",
      "\u001b[1;32m<ipython-input-3-d7ed968c0e1a>\u001b[0m in \u001b[0;36m<module>\u001b[1;34m\u001b[0m\n\u001b[0;32m      1\u001b[0m \u001b[1;31m# from example.commons import Faker\u001b[0m\u001b[1;33m\u001b[0m\u001b[1;33m\u001b[0m\u001b[1;33m\u001b[0m\u001b[0m\n\u001b[1;32m----> 2\u001b[1;33m \u001b[1;32mfrom\u001b[0m \u001b[0mpyecharts\u001b[0m \u001b[1;32mimport\u001b[0m \u001b[0moptions\u001b[0m \u001b[1;32mas\u001b[0m \u001b[0mopts\u001b[0m\u001b[1;33m\u001b[0m\u001b[1;33m\u001b[0m\u001b[0m\n\u001b[0m\u001b[0;32m      3\u001b[0m \u001b[1;32mfrom\u001b[0m \u001b[0mpyecharts\u001b[0m\u001b[1;33m.\u001b[0m\u001b[0mcharts\u001b[0m \u001b[1;32mimport\u001b[0m \u001b[0mGeo\u001b[0m\u001b[1;33m\u001b[0m\u001b[1;33m\u001b[0m\u001b[0m\n\u001b[0;32m      4\u001b[0m \u001b[1;32mfrom\u001b[0m \u001b[0mpyecharts\u001b[0m\u001b[1;33m.\u001b[0m\u001b[0mglobals\u001b[0m \u001b[1;32mimport\u001b[0m \u001b[0mChartType\u001b[0m\u001b[1;33m,\u001b[0m \u001b[0mSymbolType\u001b[0m\u001b[1;33m\u001b[0m\u001b[1;33m\u001b[0m\u001b[0m\n\u001b[0;32m      5\u001b[0m \u001b[1;33m\u001b[0m\u001b[0m\n",
      "\u001b[1;31mModuleNotFoundError\u001b[0m: No module named 'pyecharts'"
     ]
    }
   ],
   "source": [
    "# from example.commons import Faker\n",
    "from pyecharts import options as opts\n",
    "from pyecharts.charts import Geo\n",
    "from pyecharts.globals import ChartType, SymbolType\n",
    "\n",
    "\n",
    "# 链式调用\n",
    "c = (\n",
    "    Geo()\n",
    "    # 加载图表模型中的中国地图\n",
    "    .add_schema(maptype=\"china\")\n",
    "    # 在地图中加入点的属性\n",
    "    .add(\"geo\", [list(z) for z in zip(Faker.provinces, Faker.values())])\n",
    "    # 设置坐标属性\n",
    "    .set_series_opts(label_opts=opts.LabelOpts(is_show=False))\n",
    "    # 设置全局属性\n",
    "    .set_global_opts(\n",
    "        visualmap_opts=opts.VisualMapOpts(),\n",
    "        title_opts=opts.TitleOpts(title=\"Geo-基本示例\"),\n",
    "    )\n",
    ")\n",
    "\n",
    "# 在 html(浏览器) 中渲染图表\n",
    "c.render()\n",
    "# 在 Jupyter Notebook 中渲染图表\n",
    "c.render_notebook()"
   ]
  },
  {
   "cell_type": "code",
   "execution_count": 4,
   "metadata": {},
   "outputs": [
    {
     "data": {
      "text/plain": [
       "640.0"
      ]
     },
     "execution_count": 4,
     "metadata": {},
     "output_type": "execute_result"
    }
   ],
   "source": [
    "1.564503636754045e+18-1.5645036367040443e+18-0.5*100000000"
   ]
  },
  {
   "cell_type": "code",
   "execution_count": 7,
   "metadata": {},
   "outputs": [
    {
     "data": {
      "text/html": [
       "<div style=\"width:100%;\"><div style=\"position:relative;width:100%;height:0;padding-bottom:60%;\"><iframe src=\"about:blank\" style=\"position:absolute;width:100%;height:100%;left:0;top:0;border:none !important;\" data-html=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 onload=\"this.contentDocument.open();this.contentDocument.write(atob(this.getAttribute('data-html')));this.contentDocument.close();\" allowfullscreen webkitallowfullscreen mozallowfullscreen></iframe></div></div>"
      ],
      "text/plain": [
       "<folium.folium.Map at 0x27419bbcc88>"
      ]
     },
     "execution_count": 7,
     "metadata": {},
     "output_type": "execute_result"
    }
   ],
   "source": [
    "import folium\n",
    "# import pandas as pd\n",
    "\n",
    "# define the world map\n",
    "world_map = folium.Map()\n",
    "\n",
    "# display world map\n",
    "world_map"
   ]
  },
  {
   "cell_type": "code",
   "execution_count": 1,
   "metadata": {
    "scrolled": true
   },
   "outputs": [
    {
     "name": "stdout",
     "output_type": "stream",
     "text": [
      "False\n"
     ]
    }
   ],
   "source": [
    "import torch\n",
    "\n",
    "# torch.cuda()\n",
    "print(torch.cuda.is_available())"
   ]
  },
  {
   "cell_type": "code",
   "execution_count": 4,
   "metadata": {},
   "outputs": [
    {
     "data": {
      "text/plain": [
       "True"
      ]
     },
     "execution_count": 4,
     "metadata": {},
     "output_type": "execute_result"
    }
   ],
   "source": [
    "from torch.backends import cudnn\n",
    "\n",
    "cudnn.is_available()"
   ]
  },
  {
   "cell_type": "code",
   "execution_count": 5,
   "metadata": {},
   "outputs": [
    {
     "ename": "NameError",
     "evalue": "name 'a' is not defined",
     "output_type": "error",
     "traceback": [
      "\u001b[0;31m---------------------------------------------------------------------------\u001b[0m",
      "\u001b[0;31mNameError\u001b[0m                                 Traceback (most recent call last)",
      "\u001b[0;32m<ipython-input-5-30e6a85faa44>\u001b[0m in \u001b[0;36m<module>\u001b[0;34m\u001b[0m\n\u001b[0;32m----> 1\u001b[0;31m \u001b[0mcudnn\u001b[0m\u001b[0;34m.\u001b[0m\u001b[0mis_acceptable\u001b[0m\u001b[0;34m(\u001b[0m\u001b[0ma\u001b[0m\u001b[0;34m.\u001b[0m\u001b[0mcuda\u001b[0m\u001b[0;34m(\u001b[0m\u001b[0;34m)\u001b[0m\u001b[0;34m)\u001b[0m\u001b[0;34m\u001b[0m\u001b[0;34m\u001b[0m\u001b[0m\n\u001b[0m",
      "\u001b[0;31mNameError\u001b[0m: name 'a' is not defined"
     ]
    }
   ],
   "source": [
    "cudnn.is_acceptable(a.cuda())"
   ]
  },
  {
   "cell_type": "code",
   "execution_count": 2,
   "metadata": {},
   "outputs": [
    {
     "ename": "RuntimeError",
     "evalue": "cuda runtime error (100) : no CUDA-capable device is detected at /pytorch/aten/src/THC/THCGeneral.cpp:50",
     "output_type": "error",
     "traceback": [
      "\u001b[0;31m---------------------------------------------------------------------------\u001b[0m",
      "\u001b[0;31mRuntimeError\u001b[0m                              Traceback (most recent call last)",
      "\u001b[0;32m<ipython-input-2-f1c23044d763>\u001b[0m in \u001b[0;36m<module>\u001b[0;34m\u001b[0m\n\u001b[1;32m      6\u001b[0m \u001b[0;31m# 若正常则静默\u001b[0m\u001b[0;34m\u001b[0m\u001b[0;34m\u001b[0m\u001b[0;34m\u001b[0m\u001b[0m\n\u001b[1;32m      7\u001b[0m \u001b[0;34m\u001b[0m\u001b[0m\n\u001b[0;32m----> 8\u001b[0;31m \u001b[0ma\u001b[0m\u001b[0;34m.\u001b[0m\u001b[0mcuda\u001b[0m\u001b[0;34m(\u001b[0m\u001b[0;34m)\u001b[0m\u001b[0;34m\u001b[0m\u001b[0;34m\u001b[0m\u001b[0m\n\u001b[0m\u001b[1;32m      9\u001b[0m \u001b[0;31m# # 若正常则返回 tensor(1., device='cuda:0')\u001b[0m\u001b[0;34m\u001b[0m\u001b[0;34m\u001b[0m\u001b[0;34m\u001b[0m\u001b[0m\n\u001b[1;32m     10\u001b[0m \u001b[0;34m\u001b[0m\u001b[0m\n",
      "\u001b[0;32m~/anaconda3/envs/pytorch/lib/python3.7/site-packages/torch/cuda/__init__.py\u001b[0m in \u001b[0;36m_lazy_init\u001b[0;34m()\u001b[0m\n\u001b[1;32m    191\u001b[0m                 \"Cannot re-initialize CUDA in forked subprocess. \" + msg)\n\u001b[1;32m    192\u001b[0m         \u001b[0m_check_driver\u001b[0m\u001b[0;34m(\u001b[0m\u001b[0;34m)\u001b[0m\u001b[0;34m\u001b[0m\u001b[0;34m\u001b[0m\u001b[0m\n\u001b[0;32m--> 193\u001b[0;31m         \u001b[0mtorch\u001b[0m\u001b[0;34m.\u001b[0m\u001b[0m_C\u001b[0m\u001b[0;34m.\u001b[0m\u001b[0m_cuda_init\u001b[0m\u001b[0;34m(\u001b[0m\u001b[0;34m)\u001b[0m\u001b[0;34m\u001b[0m\u001b[0;34m\u001b[0m\u001b[0m\n\u001b[0m\u001b[1;32m    194\u001b[0m         \u001b[0m_cudart\u001b[0m \u001b[0;34m=\u001b[0m \u001b[0m_load_cudart\u001b[0m\u001b[0;34m(\u001b[0m\u001b[0;34m)\u001b[0m\u001b[0;34m\u001b[0m\u001b[0;34m\u001b[0m\u001b[0m\n\u001b[1;32m    195\u001b[0m         \u001b[0m_cudart\u001b[0m\u001b[0;34m.\u001b[0m\u001b[0mcudaGetErrorName\u001b[0m\u001b[0;34m.\u001b[0m\u001b[0mrestype\u001b[0m \u001b[0;34m=\u001b[0m \u001b[0mctypes\u001b[0m\u001b[0;34m.\u001b[0m\u001b[0mc_char_p\u001b[0m\u001b[0;34m\u001b[0m\u001b[0;34m\u001b[0m\u001b[0m\n",
      "\u001b[0;31mRuntimeError\u001b[0m: cuda runtime error (100) : no CUDA-capable device is detected at /pytorch/aten/src/THC/THCGeneral.cpp:50"
     ]
    }
   ],
   "source": [
    "# Python 测试\n",
    "import torch\n",
    "# 若正常则静默\n",
    " \n",
    "a = torch.tensor(1.)\n",
    "# 若正常则静默\n",
    " \n",
    "a.cuda()\n",
    "# # 若正常则返回 tensor(1., device='cuda:0')\n",
    " \n",
    "# from torch.backends import cudnn\n",
    "# # 若正常则静默\n",
    " \n",
    "# cudnn.is_available()\n",
    "# # 若正常则返回 True\n",
    " \n",
    "# cudnn.is_acceptable(a.cuda()) \n",
    "# 若正常则返回 True\n"
   ]
  },
  {
   "cell_type": "code",
   "execution_count": null,
   "metadata": {
    "collapsed": true
   },
   "outputs": [],
   "source": []
  }
 ],
 "metadata": {
  "kernelspec": {
   "display_name": "Python [conda env:pytorch] *",
   "language": "python",
   "name": "conda-env-pytorch-py"
  },
  "language_info": {
   "codemirror_mode": {
    "name": "ipython",
    "version": 3
   },
   "file_extension": ".py",
   "mimetype": "text/x-python",
   "name": "python",
   "nbconvert_exporter": "python",
   "pygments_lexer": "ipython3",
   "version": "3.7.5"
  }
 },
 "nbformat": 4,
 "nbformat_minor": 2
}
